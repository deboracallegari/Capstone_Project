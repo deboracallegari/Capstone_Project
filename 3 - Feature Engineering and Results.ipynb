{
 "cells": [
  {
   "cell_type": "markdown",
   "metadata": {},
   "source": [
    "## Capstone Project - Default of Credit Card Clients\n",
    "\n",
    "Prepared by Debora Callegari"
   ]
  },
  {
   "cell_type": "markdown",
   "metadata": {},
   "source": [
    "### Imports"
   ]
  },
  {
   "cell_type": "code",
   "execution_count": 1,
   "metadata": {},
   "outputs": [],
   "source": [
    "#Importing the necessary packages:\n",
    "\n",
    "import numpy as np\n",
    "import pandas as pd\n",
    "import seaborn as sns\n",
    "import matplotlib.pyplot as plt\n",
    "%matplotlib inline\n",
    "\n",
    "import matplotlib.gridspec as gridspec\n",
    "\n",
    "import statsmodels.api as sm\n",
    "\n",
    "from sklearn.linear_model import LogisticRegression\n",
    "from sklearn.tree import DecisionTreeClassifier\n",
    "from sklearn.metrics import accuracy_score, confusion_matrix, recall_score, f1_score, precision_score\n",
    "from sklearn.model_selection import train_test_split\n",
    "from sklearn import metrics\n",
    "\n",
    "from sklearn.preprocessing import StandardScaler\n",
    "from sklearn import preprocessing\n",
    "from sklearn.model_selection import cross_val_score\n",
    "from sklearn.metrics import classification_report\n",
    "from sklearn.model_selection import GridSearchCV\n",
    "from sklearn.ensemble import GradientBoostingClassifier\n",
    "\n",
    "\n",
    "import warnings\n",
    "warnings.filterwarnings('ignore')"
   ]
  },
  {
   "cell_type": "markdown",
   "metadata": {},
   "source": [
    "### Step 7: Feature Engineering"
   ]
  },
  {
   "cell_type": "markdown",
   "metadata": {},
   "source": [
    "For this case, I believe it is important to build new features that will be useful to perform the models again. There is an applicable information when comparing the ratio of the bill amount with the amount of given credit for each month."
   ]
  },
  {
   "cell_type": "code",
   "execution_count": 66,
   "metadata": {},
   "outputs": [
    {
     "data": {
      "text/html": [
       "<div>\n",
       "<style scoped>\n",
       "    .dataframe tbody tr th:only-of-type {\n",
       "        vertical-align: middle;\n",
       "    }\n",
       "\n",
       "    .dataframe tbody tr th {\n",
       "        vertical-align: top;\n",
       "    }\n",
       "\n",
       "    .dataframe thead th {\n",
       "        text-align: right;\n",
       "    }\n",
       "</style>\n",
       "<table border=\"1\" class=\"dataframe\">\n",
       "  <thead>\n",
       "    <tr style=\"text-align: right;\">\n",
       "      <th></th>\n",
       "      <th>limit_bal</th>\n",
       "      <th>age</th>\n",
       "      <th>bill_amt1</th>\n",
       "      <th>bill_amt2</th>\n",
       "      <th>bill_amt3</th>\n",
       "      <th>bill_amt4</th>\n",
       "      <th>bill_amt5</th>\n",
       "      <th>bill_amt6</th>\n",
       "      <th>pay_amt1</th>\n",
       "      <th>pay_amt2</th>\n",
       "      <th>...</th>\n",
       "      <th>pay_5_7</th>\n",
       "      <th>pay_5_8</th>\n",
       "      <th>pay_6_0</th>\n",
       "      <th>pay_6_2</th>\n",
       "      <th>pay_6_3</th>\n",
       "      <th>pay_6_4</th>\n",
       "      <th>pay_6_5</th>\n",
       "      <th>pay_6_6</th>\n",
       "      <th>pay_6_7</th>\n",
       "      <th>pay_6_8</th>\n",
       "    </tr>\n",
       "    <tr>\n",
       "      <th>ID</th>\n",
       "      <th></th>\n",
       "      <th></th>\n",
       "      <th></th>\n",
       "      <th></th>\n",
       "      <th></th>\n",
       "      <th></th>\n",
       "      <th></th>\n",
       "      <th></th>\n",
       "      <th></th>\n",
       "      <th></th>\n",
       "      <th></th>\n",
       "      <th></th>\n",
       "      <th></th>\n",
       "      <th></th>\n",
       "      <th></th>\n",
       "      <th></th>\n",
       "      <th></th>\n",
       "      <th></th>\n",
       "      <th></th>\n",
       "      <th></th>\n",
       "      <th></th>\n",
       "    </tr>\n",
       "  </thead>\n",
       "  <tbody>\n",
       "    <tr>\n",
       "      <th>1</th>\n",
       "      <td>20000.0</td>\n",
       "      <td>24</td>\n",
       "      <td>3913.0</td>\n",
       "      <td>3102.0</td>\n",
       "      <td>689.0</td>\n",
       "      <td>0.0</td>\n",
       "      <td>0.0</td>\n",
       "      <td>0.0</td>\n",
       "      <td>0.0</td>\n",
       "      <td>689.0</td>\n",
       "      <td>...</td>\n",
       "      <td>0</td>\n",
       "      <td>0</td>\n",
       "      <td>1</td>\n",
       "      <td>0</td>\n",
       "      <td>0</td>\n",
       "      <td>0</td>\n",
       "      <td>0</td>\n",
       "      <td>0</td>\n",
       "      <td>0</td>\n",
       "      <td>0</td>\n",
       "    </tr>\n",
       "    <tr>\n",
       "      <th>2</th>\n",
       "      <td>120000.0</td>\n",
       "      <td>26</td>\n",
       "      <td>2682.0</td>\n",
       "      <td>1725.0</td>\n",
       "      <td>2682.0</td>\n",
       "      <td>3272.0</td>\n",
       "      <td>3455.0</td>\n",
       "      <td>3261.0</td>\n",
       "      <td>0.0</td>\n",
       "      <td>1000.0</td>\n",
       "      <td>...</td>\n",
       "      <td>0</td>\n",
       "      <td>0</td>\n",
       "      <td>0</td>\n",
       "      <td>1</td>\n",
       "      <td>0</td>\n",
       "      <td>0</td>\n",
       "      <td>0</td>\n",
       "      <td>0</td>\n",
       "      <td>0</td>\n",
       "      <td>0</td>\n",
       "    </tr>\n",
       "    <tr>\n",
       "      <th>3</th>\n",
       "      <td>90000.0</td>\n",
       "      <td>34</td>\n",
       "      <td>29239.0</td>\n",
       "      <td>14027.0</td>\n",
       "      <td>13559.0</td>\n",
       "      <td>14331.0</td>\n",
       "      <td>14948.0</td>\n",
       "      <td>15549.0</td>\n",
       "      <td>1518.0</td>\n",
       "      <td>1500.0</td>\n",
       "      <td>...</td>\n",
       "      <td>0</td>\n",
       "      <td>0</td>\n",
       "      <td>1</td>\n",
       "      <td>0</td>\n",
       "      <td>0</td>\n",
       "      <td>0</td>\n",
       "      <td>0</td>\n",
       "      <td>0</td>\n",
       "      <td>0</td>\n",
       "      <td>0</td>\n",
       "    </tr>\n",
       "    <tr>\n",
       "      <th>4</th>\n",
       "      <td>50000.0</td>\n",
       "      <td>37</td>\n",
       "      <td>46990.0</td>\n",
       "      <td>48233.0</td>\n",
       "      <td>49291.0</td>\n",
       "      <td>28314.0</td>\n",
       "      <td>28959.0</td>\n",
       "      <td>29547.0</td>\n",
       "      <td>2000.0</td>\n",
       "      <td>2019.0</td>\n",
       "      <td>...</td>\n",
       "      <td>0</td>\n",
       "      <td>0</td>\n",
       "      <td>1</td>\n",
       "      <td>0</td>\n",
       "      <td>0</td>\n",
       "      <td>0</td>\n",
       "      <td>0</td>\n",
       "      <td>0</td>\n",
       "      <td>0</td>\n",
       "      <td>0</td>\n",
       "    </tr>\n",
       "    <tr>\n",
       "      <th>5</th>\n",
       "      <td>50000.0</td>\n",
       "      <td>57</td>\n",
       "      <td>8617.0</td>\n",
       "      <td>5670.0</td>\n",
       "      <td>35835.0</td>\n",
       "      <td>20940.0</td>\n",
       "      <td>19146.0</td>\n",
       "      <td>19131.0</td>\n",
       "      <td>2000.0</td>\n",
       "      <td>36681.0</td>\n",
       "      <td>...</td>\n",
       "      <td>0</td>\n",
       "      <td>0</td>\n",
       "      <td>1</td>\n",
       "      <td>0</td>\n",
       "      <td>0</td>\n",
       "      <td>0</td>\n",
       "      <td>0</td>\n",
       "      <td>0</td>\n",
       "      <td>0</td>\n",
       "      <td>0</td>\n",
       "    </tr>\n",
       "  </tbody>\n",
       "</table>\n",
       "<p>5 rows × 75 columns</p>\n",
       "</div>"
      ],
      "text/plain": [
       "    limit_bal  age  bill_amt1  bill_amt2  bill_amt3  bill_amt4  bill_amt5  \\\n",
       "ID                                                                          \n",
       "1     20000.0   24     3913.0     3102.0      689.0        0.0        0.0   \n",
       "2    120000.0   26     2682.0     1725.0     2682.0     3272.0     3455.0   \n",
       "3     90000.0   34    29239.0    14027.0    13559.0    14331.0    14948.0   \n",
       "4     50000.0   37    46990.0    48233.0    49291.0    28314.0    28959.0   \n",
       "5     50000.0   57     8617.0     5670.0    35835.0    20940.0    19146.0   \n",
       "\n",
       "    bill_amt6  pay_amt1  pay_amt2  ...  pay_5_7  pay_5_8  pay_6_0  pay_6_2  \\\n",
       "ID                                 ...                                       \n",
       "1         0.0       0.0     689.0  ...        0        0        1        0   \n",
       "2      3261.0       0.0    1000.0  ...        0        0        0        1   \n",
       "3     15549.0    1518.0    1500.0  ...        0        0        1        0   \n",
       "4     29547.0    2000.0    2019.0  ...        0        0        1        0   \n",
       "5     19131.0    2000.0   36681.0  ...        0        0        1        0   \n",
       "\n",
       "    pay_6_3  pay_6_4  pay_6_5  pay_6_6  pay_6_7  pay_6_8  \n",
       "ID                                                        \n",
       "1         0        0        0        0        0        0  \n",
       "2         0        0        0        0        0        0  \n",
       "3         0        0        0        0        0        0  \n",
       "4         0        0        0        0        0        0  \n",
       "5         0        0        0        0        0        0  \n",
       "\n",
       "[5 rows x 75 columns]"
      ]
     },
     "execution_count": 66,
     "metadata": {},
     "output_type": "execute_result"
    }
   ],
   "source": [
    "df_dummy_2.head()"
   ]
  },
  {
   "cell_type": "code",
   "execution_count": 67,
   "metadata": {},
   "outputs": [],
   "source": [
    "feat_eng_data = df_dummy_2.copy()"
   ]
  },
  {
   "cell_type": "code",
   "execution_count": 68,
   "metadata": {},
   "outputs": [],
   "source": [
    "feat_eng_data['limit_used1'] = feat_eng_data['bill_amt1'] / feat_eng_data['limit_bal']\n",
    "feat_eng_data['limit_used2'] = feat_eng_data['bill_amt2'] / feat_eng_data['limit_bal']\n",
    "feat_eng_data['limit_used3'] = feat_eng_data['bill_amt3'] / feat_eng_data['limit_bal']\n",
    "feat_eng_data['limit_used4'] = feat_eng_data['bill_amt4'] / feat_eng_data['limit_bal']\n",
    "feat_eng_data['limit_used5'] = feat_eng_data['bill_amt5'] / feat_eng_data['limit_bal']\n",
    "feat_eng_data['limit_used6'] = feat_eng_data['bill_amt6'] / feat_eng_data['limit_bal']"
   ]
  },
  {
   "cell_type": "code",
   "execution_count": 69,
   "metadata": {},
   "outputs": [
    {
     "data": {
      "text/html": [
       "<div>\n",
       "<style scoped>\n",
       "    .dataframe tbody tr th:only-of-type {\n",
       "        vertical-align: middle;\n",
       "    }\n",
       "\n",
       "    .dataframe tbody tr th {\n",
       "        vertical-align: top;\n",
       "    }\n",
       "\n",
       "    .dataframe thead th {\n",
       "        text-align: right;\n",
       "    }\n",
       "</style>\n",
       "<table border=\"1\" class=\"dataframe\">\n",
       "  <thead>\n",
       "    <tr style=\"text-align: right;\">\n",
       "      <th></th>\n",
       "      <th>limit_bal</th>\n",
       "      <th>age</th>\n",
       "      <th>bill_amt1</th>\n",
       "      <th>bill_amt2</th>\n",
       "      <th>bill_amt3</th>\n",
       "      <th>bill_amt4</th>\n",
       "      <th>bill_amt5</th>\n",
       "      <th>bill_amt6</th>\n",
       "      <th>pay_amt1</th>\n",
       "      <th>pay_amt2</th>\n",
       "      <th>...</th>\n",
       "      <th>pay_6_5</th>\n",
       "      <th>pay_6_6</th>\n",
       "      <th>pay_6_7</th>\n",
       "      <th>pay_6_8</th>\n",
       "      <th>limit_used1</th>\n",
       "      <th>limit_used2</th>\n",
       "      <th>limit_used3</th>\n",
       "      <th>limit_used4</th>\n",
       "      <th>limit_used5</th>\n",
       "      <th>limit_used6</th>\n",
       "    </tr>\n",
       "    <tr>\n",
       "      <th>ID</th>\n",
       "      <th></th>\n",
       "      <th></th>\n",
       "      <th></th>\n",
       "      <th></th>\n",
       "      <th></th>\n",
       "      <th></th>\n",
       "      <th></th>\n",
       "      <th></th>\n",
       "      <th></th>\n",
       "      <th></th>\n",
       "      <th></th>\n",
       "      <th></th>\n",
       "      <th></th>\n",
       "      <th></th>\n",
       "      <th></th>\n",
       "      <th></th>\n",
       "      <th></th>\n",
       "      <th></th>\n",
       "      <th></th>\n",
       "      <th></th>\n",
       "      <th></th>\n",
       "    </tr>\n",
       "  </thead>\n",
       "  <tbody>\n",
       "    <tr>\n",
       "      <th>1</th>\n",
       "      <td>20000.0</td>\n",
       "      <td>24</td>\n",
       "      <td>3913.0</td>\n",
       "      <td>3102.0</td>\n",
       "      <td>689.0</td>\n",
       "      <td>0.0</td>\n",
       "      <td>0.0</td>\n",
       "      <td>0.0</td>\n",
       "      <td>0.0</td>\n",
       "      <td>689.0</td>\n",
       "      <td>...</td>\n",
       "      <td>0</td>\n",
       "      <td>0</td>\n",
       "      <td>0</td>\n",
       "      <td>0</td>\n",
       "      <td>0.195650</td>\n",
       "      <td>0.155100</td>\n",
       "      <td>0.034450</td>\n",
       "      <td>0.000000</td>\n",
       "      <td>0.000000</td>\n",
       "      <td>0.000000</td>\n",
       "    </tr>\n",
       "    <tr>\n",
       "      <th>2</th>\n",
       "      <td>120000.0</td>\n",
       "      <td>26</td>\n",
       "      <td>2682.0</td>\n",
       "      <td>1725.0</td>\n",
       "      <td>2682.0</td>\n",
       "      <td>3272.0</td>\n",
       "      <td>3455.0</td>\n",
       "      <td>3261.0</td>\n",
       "      <td>0.0</td>\n",
       "      <td>1000.0</td>\n",
       "      <td>...</td>\n",
       "      <td>0</td>\n",
       "      <td>0</td>\n",
       "      <td>0</td>\n",
       "      <td>0</td>\n",
       "      <td>0.022350</td>\n",
       "      <td>0.014375</td>\n",
       "      <td>0.022350</td>\n",
       "      <td>0.027267</td>\n",
       "      <td>0.028792</td>\n",
       "      <td>0.027175</td>\n",
       "    </tr>\n",
       "    <tr>\n",
       "      <th>3</th>\n",
       "      <td>90000.0</td>\n",
       "      <td>34</td>\n",
       "      <td>29239.0</td>\n",
       "      <td>14027.0</td>\n",
       "      <td>13559.0</td>\n",
       "      <td>14331.0</td>\n",
       "      <td>14948.0</td>\n",
       "      <td>15549.0</td>\n",
       "      <td>1518.0</td>\n",
       "      <td>1500.0</td>\n",
       "      <td>...</td>\n",
       "      <td>0</td>\n",
       "      <td>0</td>\n",
       "      <td>0</td>\n",
       "      <td>0</td>\n",
       "      <td>0.324878</td>\n",
       "      <td>0.155856</td>\n",
       "      <td>0.150656</td>\n",
       "      <td>0.159233</td>\n",
       "      <td>0.166089</td>\n",
       "      <td>0.172767</td>\n",
       "    </tr>\n",
       "    <tr>\n",
       "      <th>4</th>\n",
       "      <td>50000.0</td>\n",
       "      <td>37</td>\n",
       "      <td>46990.0</td>\n",
       "      <td>48233.0</td>\n",
       "      <td>49291.0</td>\n",
       "      <td>28314.0</td>\n",
       "      <td>28959.0</td>\n",
       "      <td>29547.0</td>\n",
       "      <td>2000.0</td>\n",
       "      <td>2019.0</td>\n",
       "      <td>...</td>\n",
       "      <td>0</td>\n",
       "      <td>0</td>\n",
       "      <td>0</td>\n",
       "      <td>0</td>\n",
       "      <td>0.939800</td>\n",
       "      <td>0.964660</td>\n",
       "      <td>0.985820</td>\n",
       "      <td>0.566280</td>\n",
       "      <td>0.579180</td>\n",
       "      <td>0.590940</td>\n",
       "    </tr>\n",
       "    <tr>\n",
       "      <th>5</th>\n",
       "      <td>50000.0</td>\n",
       "      <td>57</td>\n",
       "      <td>8617.0</td>\n",
       "      <td>5670.0</td>\n",
       "      <td>35835.0</td>\n",
       "      <td>20940.0</td>\n",
       "      <td>19146.0</td>\n",
       "      <td>19131.0</td>\n",
       "      <td>2000.0</td>\n",
       "      <td>36681.0</td>\n",
       "      <td>...</td>\n",
       "      <td>0</td>\n",
       "      <td>0</td>\n",
       "      <td>0</td>\n",
       "      <td>0</td>\n",
       "      <td>0.172340</td>\n",
       "      <td>0.113400</td>\n",
       "      <td>0.716700</td>\n",
       "      <td>0.418800</td>\n",
       "      <td>0.382920</td>\n",
       "      <td>0.382620</td>\n",
       "    </tr>\n",
       "  </tbody>\n",
       "</table>\n",
       "<p>5 rows × 81 columns</p>\n",
       "</div>"
      ],
      "text/plain": [
       "    limit_bal  age  bill_amt1  bill_amt2  bill_amt3  bill_amt4  bill_amt5  \\\n",
       "ID                                                                          \n",
       "1     20000.0   24     3913.0     3102.0      689.0        0.0        0.0   \n",
       "2    120000.0   26     2682.0     1725.0     2682.0     3272.0     3455.0   \n",
       "3     90000.0   34    29239.0    14027.0    13559.0    14331.0    14948.0   \n",
       "4     50000.0   37    46990.0    48233.0    49291.0    28314.0    28959.0   \n",
       "5     50000.0   57     8617.0     5670.0    35835.0    20940.0    19146.0   \n",
       "\n",
       "    bill_amt6  pay_amt1  pay_amt2  ...  pay_6_5  pay_6_6  pay_6_7  pay_6_8  \\\n",
       "ID                                 ...                                       \n",
       "1         0.0       0.0     689.0  ...        0        0        0        0   \n",
       "2      3261.0       0.0    1000.0  ...        0        0        0        0   \n",
       "3     15549.0    1518.0    1500.0  ...        0        0        0        0   \n",
       "4     29547.0    2000.0    2019.0  ...        0        0        0        0   \n",
       "5     19131.0    2000.0   36681.0  ...        0        0        0        0   \n",
       "\n",
       "    limit_used1  limit_used2  limit_used3  limit_used4  limit_used5  \\\n",
       "ID                                                                    \n",
       "1      0.195650     0.155100     0.034450     0.000000     0.000000   \n",
       "2      0.022350     0.014375     0.022350     0.027267     0.028792   \n",
       "3      0.324878     0.155856     0.150656     0.159233     0.166089   \n",
       "4      0.939800     0.964660     0.985820     0.566280     0.579180   \n",
       "5      0.172340     0.113400     0.716700     0.418800     0.382920   \n",
       "\n",
       "    limit_used6  \n",
       "ID               \n",
       "1      0.000000  \n",
       "2      0.027175  \n",
       "3      0.172767  \n",
       "4      0.590940  \n",
       "5      0.382620  \n",
       "\n",
       "[5 rows x 81 columns]"
      ]
     },
     "execution_count": 69,
     "metadata": {},
     "output_type": "execute_result"
    }
   ],
   "source": [
    "feat_eng_data.head()"
   ]
  },
  {
   "cell_type": "markdown",
   "metadata": {},
   "source": [
    "### Step 8: Fitting models after Feature Engineering"
   ]
  },
  {
   "cell_type": "markdown",
   "metadata": {},
   "source": [
    "#### Splitting the data"
   ]
  },
  {
   "cell_type": "code",
   "execution_count": 70,
   "metadata": {},
   "outputs": [],
   "source": [
    "X_1 = feat_eng_data.drop('default', axis=1)\n",
    "y_1 = feat_eng_data['default']"
   ]
  },
  {
   "cell_type": "code",
   "execution_count": 71,
   "metadata": {},
   "outputs": [
    {
     "name": "stdout",
     "output_type": "stream",
     "text": [
      "X_1 shape: (29623, 80)\n",
      "y_1 shape: (29623,)\n"
     ]
    }
   ],
   "source": [
    "print(\"X_1 shape:\", X_1.shape)\n",
    "print(\"y_1 shape:\", y_1.shape)"
   ]
  },
  {
   "cell_type": "code",
   "execution_count": 72,
   "metadata": {},
   "outputs": [],
   "source": [
    "# Splitting into training and test sets\n",
    "X_train, X_test, y_train, y_test = train_test_split(X_1, y_1, test_size=0.2, stratify = y_1, random_state=42)"
   ]
  },
  {
   "cell_type": "code",
   "execution_count": 73,
   "metadata": {},
   "outputs": [
    {
     "name": "stdout",
     "output_type": "stream",
     "text": [
      "X_train shape: (23698, 80)\n",
      "y_train shape: (23698,)\n",
      "X_test shape: (5925, 80)\n",
      "y_test shape: (5925,)\n"
     ]
    }
   ],
   "source": [
    "print(\"X_train shape:\", X_train.shape)\n",
    "print(\"y_train shape:\", y_train.shape)\n",
    "print(\"X_test shape:\", X_test.shape)\n",
    "print(\"y_test shape:\", y_test.shape)"
   ]
  },
  {
   "cell_type": "code",
   "execution_count": 74,
   "metadata": {},
   "outputs": [],
   "source": [
    "#Transforming data\n",
    "scaler = StandardScaler()\n",
    "scaler.fit(X_train)\n",
    "X_train = scaler.transform(X_train)\n",
    "X_test = scaler.transform(X_test)"
   ]
  },
  {
   "cell_type": "markdown",
   "metadata": {},
   "source": [
    "#### 8.1. Logistic regression"
   ]
  },
  {
   "cell_type": "code",
   "execution_count": 75,
   "metadata": {},
   "outputs": [
    {
     "name": "stdout",
     "output_type": "stream",
     "text": [
      "Train Precision: 50.958\n",
      "Train Recall: 56.376\n",
      "Train F1: 53.530\n",
      "\n",
      "\n",
      "Test Precision: 50.577\n",
      "Test Recall: 56.914\n",
      "Test F1: 53.559\n"
     ]
    }
   ],
   "source": [
    "# Fitting logistic regression model the training data\n",
    "LR_model_1 = LogisticRegression(random_state=42, class_weight='balanced')\n",
    "LR_model_1.fit(X_train, y_train)\n",
    "\n",
    "# Evaluating the model\n",
    "y_pred_train_LR_1 = LR_model_1.predict(X_train)\n",
    "y_pred_test_LR_1 = LR_model_1.predict(X_test)\n",
    "\n",
    "# print(f\"Train Accuracy: {100*metrics.accuracy_score(y_train, y_pred_train_LR):3.3f}\")\n",
    "print(f\"Train Precision: {100*precision_score(y_train, y_pred_train_LR_1):3.3f}\")\n",
    "print(f\"Train Recall: {100*recall_score(y_train, y_pred_train_LR_1):3.3f}\")\n",
    "print(f\"Train F1: {100*f1_score(y_train, y_pred_train_LR_1):3.3f}\")\n",
    "\n",
    "print('\\n')\n",
    "\n",
    "# print(f\"Test Accuracy: {100*metrics.accuracy_score(y_test, y_pred_test_LR):3.3f}\")\n",
    "print(f\"Test Precision: {100*precision_score(y_test, y_pred_test_LR_1):3.3f}\")\n",
    "print(f\"Test Recall: {100*recall_score(y_test, y_pred_test_LR_1):3.3f}\")\n",
    "print(f\"Test F1: {100*f1_score(y_test, y_pred_test_LR_1):3.3f}\")"
   ]
  },
  {
   "cell_type": "code",
   "execution_count": 76,
   "metadata": {},
   "outputs": [
    {
     "name": "stdout",
     "output_type": "stream",
     "text": [
      "              precision    recall  f1-score   support\n",
      "\n",
      "           0       0.87      0.84      0.86      4616\n",
      "           1       0.51      0.57      0.54      1309\n",
      "\n",
      "   micro avg       0.78      0.78      0.78      5925\n",
      "   macro avg       0.69      0.71      0.70      5925\n",
      "weighted avg       0.79      0.78      0.79      5925\n",
      "\n"
     ]
    }
   ],
   "source": [
    "# Getting the classification report\n",
    "print(classification_report(y_test, y_pred_test_LR_1))"
   ]
  },
  {
   "cell_type": "code",
   "execution_count": 77,
   "metadata": {},
   "outputs": [
    {
     "name": "stdout",
     "output_type": "stream",
     "text": [
      "[[3888  728]\n",
      " [ 564  745]]\n"
     ]
    },
    {
     "data": {
      "image/png": "[encoded data removed]",
      "text/plain": [
       "<Figure size 432x432 with 2 Axes>"
      ]
     },
     "metadata": {
      "needs_background": "light"
     },
     "output_type": "display_data"
    }
   ],
   "source": [
    "# Getting the confusion matrix\n",
    "cm_LR_1 = confusion_matrix(y_test, y_pred_test_LR_1)\n",
    "print(cm_LR_1)\n",
    "\n",
    "# Plotting the confusion matrix with seaborn\n",
    "plt.figure(figsize=(6,6))\n",
    "sns.heatmap(cm_LR_1, annot=True, fmt=\".0f\", linewidths=.5, square = True, cmap = 'Blues');\n",
    "plt.title('Logistic regression Confusion Matrix');\n",
    "plt.ylabel('Actual label');\n",
    "plt.xlabel('Predicted label');"
   ]
  },
  {
   "cell_type": "markdown",
   "metadata": {},
   "source": [
    "#### 8.2. Decision Tree"
   ]
  },
  {
   "cell_type": "code",
   "execution_count": 78,
   "metadata": {},
   "outputs": [
    {
     "name": "stdout",
     "output_type": "stream",
     "text": [
      "Train Precision: 99.658\n",
      "Train Recall: 100.000\n",
      "Train F1: 99.828\n",
      "\n",
      "\n",
      "Test Precision: 38.456\n",
      "Test Recall: 38.808\n",
      "Test F1: 38.631\n"
     ]
    }
   ],
   "source": [
    "# Fitting Decision Tree model to the training data\n",
    "DT_model_1 = DecisionTreeClassifier(random_state=42, class_weight='balanced')\n",
    "DT_model_1.fit(X_train, y_train)\n",
    "\n",
    "# Evaluating the model\n",
    "y_pred_train_DT_1 = DT_model_1.predict(X_train)\n",
    "y_pred_test_DT_1 = DT_model_1.predict(X_test)\n",
    "\n",
    "print(f\"Train Precision: {100*precision_score(y_train, y_pred_train_DT_1):3.3f}\")\n",
    "print(f\"Train Recall: {100*recall_score(y_train, y_pred_train_DT_1):3.3f}\")\n",
    "print(f\"Train F1: {100*f1_score(y_train, y_pred_train_DT_1):3.3f}\")\n",
    "\n",
    "print('\\n')\n",
    "\n",
    "print(f\"Test Precision: {100*precision_score(y_test, y_pred_test_DT_1):3.3f}\")\n",
    "print(f\"Test Recall: {100*recall_score(y_test, y_pred_test_DT_1):3.3f}\")\n",
    "print(f\"Test F1: {100*f1_score(y_test, y_pred_test_DT_1):3.3f}\")"
   ]
  },
  {
   "cell_type": "code",
   "execution_count": 79,
   "metadata": {},
   "outputs": [
    {
     "name": "stdout",
     "output_type": "stream",
     "text": [
      "              precision    recall  f1-score   support\n",
      "\n",
      "           0       0.83      0.82      0.82      4616\n",
      "           1       0.38      0.39      0.39      1309\n",
      "\n",
      "   micro avg       0.73      0.73      0.73      5925\n",
      "   macro avg       0.61      0.61      0.61      5925\n",
      "weighted avg       0.73      0.73      0.73      5925\n",
      "\n"
     ]
    }
   ],
   "source": [
    "# Getting the classification report\n",
    "print(classification_report(y_test, y_pred_test_DT_1))"
   ]
  },
  {
   "cell_type": "code",
   "execution_count": 80,
   "metadata": {},
   "outputs": [
    {
     "name": "stdout",
     "output_type": "stream",
     "text": [
      "[[3803  813]\n",
      " [ 801  508]]\n"
     ]
    },
    {
     "data": {
      "image/png": "[encoded data removed]",
      "text/plain": [
       "<Figure size 432x432 with 2 Axes>"
      ]
     },
     "metadata": {
      "needs_background": "light"
     },
     "output_type": "display_data"
    }
   ],
   "source": [
    "# Getting the confusion matrix\n",
    "cm_DT_1 = confusion_matrix(y_test, y_pred_test_DT_1)\n",
    "print(cm_DT_1)\n",
    "\n",
    "# Plotting the confusion matrix with seaborn\n",
    "plt.figure(figsize=(6,6))\n",
    "sns.heatmap(cm_DT_1, annot=True, fmt=\".0f\", linewidths=.5, square = True, cmap = 'Blues');\n",
    "plt.title('Decision Tree Confusion Matrix');\n",
    "plt.ylabel('Actual label');\n",
    "plt.xlabel('Predicted label');"
   ]
  },
  {
   "cell_type": "markdown",
   "metadata": {},
   "source": [
    "#### 8.3. Support Vector Machines"
   ]
  },
  {
   "cell_type": "code",
   "execution_count": 81,
   "metadata": {},
   "outputs": [
    {
     "name": "stdout",
     "output_type": "stream",
     "text": [
      "Train Precision: 48.391\n",
      "Train Recall: 61.168\n",
      "Train F1: 54.035\n",
      "\n",
      "\n",
      "Test Precision: 47.356\n",
      "Test Recall: 61.574\n",
      "Test F1: 53.537\n"
     ]
    }
   ],
   "source": [
    "SVC_model_1 = SVC(kernel='rbf', class_weight='balanced', probability=True)\n",
    "SVC_model_1.fit(X_train, y_train)\n",
    "\n",
    "# Evaluating the model\n",
    "y_pred_train_SVC_1 = SVC_model_1.predict(X_train)\n",
    "y_pred_test_SVC_1 = SVC_model_1.predict(X_test)\n",
    "\n",
    "\n",
    "print(f\"Train Precision: {100*precision_score(y_train, y_pred_train_SVC_1):3.3f}\")\n",
    "print(f\"Train Recall: {100*recall_score(y_train, y_pred_train_SVC_1):3.3f}\")\n",
    "print(f\"Train F1: {100*f1_score(y_train, y_pred_train_SVC_1):3.3f}\")\n",
    "\n",
    "print('\\n')\n",
    "\n",
    "print(f\"Test Precision: {100*precision_score(y_test, y_pred_test_SVC_1):3.3f}\")\n",
    "print(f\"Test Recall: {100*recall_score(y_test, y_pred_test_SVC_1):3.3f}\")\n",
    "print(f\"Test F1: {100*f1_score(y_test, y_pred_test_SVC_1):3.3f}\")"
   ]
  },
  {
   "cell_type": "code",
   "execution_count": 82,
   "metadata": {},
   "outputs": [
    {
     "name": "stdout",
     "output_type": "stream",
     "text": [
      "              precision    recall  f1-score   support\n",
      "\n",
      "           0       0.88      0.81      0.84      4616\n",
      "           1       0.47      0.62      0.54      1309\n",
      "\n",
      "   micro avg       0.76      0.76      0.76      5925\n",
      "   macro avg       0.68      0.71      0.69      5925\n",
      "weighted avg       0.79      0.76      0.77      5925\n",
      "\n"
     ]
    }
   ],
   "source": [
    "# Getting the classification report\n",
    "print(classification_report(y_test, y_pred_test_SVC_1))"
   ]
  },
  {
   "cell_type": "code",
   "execution_count": 83,
   "metadata": {},
   "outputs": [
    {
     "name": "stdout",
     "output_type": "stream",
     "text": [
      "[[3720  896]\n",
      " [ 503  806]]\n"
     ]
    },
    {
     "data": {
      "image/png": "[encoded data removed]",
      "text/plain": [
       "<Figure size 432x432 with 2 Axes>"
      ]
     },
     "metadata": {
      "needs_background": "light"
     },
     "output_type": "display_data"
    }
   ],
   "source": [
    "# Getting the confusion matrix\n",
    "cm_SVC_1 = confusion_matrix(y_test, y_pred_test_SVC_1)\n",
    "print(cm_SVC_1)\n",
    "\n",
    "# Plotting the confusion matrix with seaborn\n",
    "plt.figure(figsize=(6,6))\n",
    "sns.heatmap(cm_SVC_1, annot=True, fmt=\".0f\", linewidths=.5, square = True, cmap = 'Blues');\n",
    "plt.title('SVC Confusion Matrix');\n",
    "plt.ylabel('Actual label');\n",
    "plt.xlabel('Predicted label');"
   ]
  },
  {
   "cell_type": "markdown",
   "metadata": {},
   "source": [
    "#### 8.4. Random Forest"
   ]
  },
  {
   "cell_type": "code",
   "execution_count": 84,
   "metadata": {},
   "outputs": [
    {
     "name": "stdout",
     "output_type": "stream",
     "text": [
      "Train Precision: 99.369\n",
      "Train Recall: 90.225\n",
      "Train F1: 94.577\n",
      "\n",
      "\n",
      "Test Precision: 63.788\n",
      "Test Recall: 32.162\n",
      "Test F1: 42.763\n"
     ]
    }
   ],
   "source": [
    "RF_model_1 = RandomForestClassifier(class_weight='balanced', random_state = 42)\n",
    "RF_model_1.fit(X_train,y_train)\n",
    "\n",
    "\n",
    "y_pred_train_RF_1 = RF_model_1.predict(X_train)\n",
    "y_pred_test_RF_1 = RF_model_1.predict(X_test)\n",
    "\n",
    "\n",
    "print(f\"Train Precision: {100*precision_score(y_train, y_pred_train_RF_1):3.3f}\")\n",
    "print(f\"Train Recall: {100*recall_score(y_train, y_pred_train_RF_1):3.3f}\")\n",
    "print(f\"Train F1: {100*f1_score(y_train, y_pred_train_RF_1):3.3f}\")\n",
    "\n",
    "print('\\n')\n",
    "\n",
    "print(f\"Test Precision: {100*precision_score(y_test, y_pred_test_RF_1):3.3f}\")\n",
    "print(f\"Test Recall: {100*recall_score(y_test, y_pred_test_RF_1):3.3f}\")\n",
    "print(f\"Test F1: {100*f1_score(y_test, y_pred_test_RF_1):3.3f}\")"
   ]
  },
  {
   "cell_type": "code",
   "execution_count": 85,
   "metadata": {},
   "outputs": [
    {
     "name": "stdout",
     "output_type": "stream",
     "text": [
      "              precision    recall  f1-score   support\n",
      "\n",
      "           0       0.83      0.95      0.89      4616\n",
      "           1       0.64      0.32      0.43      1309\n",
      "\n",
      "   micro avg       0.81      0.81      0.81      5925\n",
      "   macro avg       0.73      0.63      0.66      5925\n",
      "weighted avg       0.79      0.81      0.78      5925\n",
      "\n"
     ]
    }
   ],
   "source": [
    "# Getting the classification report\n",
    "print(classification_report(y_test, y_pred_test_RF_1))"
   ]
  },
  {
   "cell_type": "code",
   "execution_count": 86,
   "metadata": {},
   "outputs": [
    {
     "name": "stdout",
     "output_type": "stream",
     "text": [
      "[[4377  239]\n",
      " [ 888  421]]\n"
     ]
    },
    {
     "data": {
      "image/png": "[encoded data removed]",
      "text/plain": [
       "<Figure size 432x432 with 2 Axes>"
      ]
     },
     "metadata": {
      "needs_background": "light"
     },
     "output_type": "display_data"
    }
   ],
   "source": [
    "# Getting the confusion matrix\n",
    "cm_RF_1 = confusion_matrix(y_test, y_pred_test_RF_1)\n",
    "print(cm_RF_1)\n",
    "\n",
    "# Plotting the confusion matrix with seaborn\n",
    "plt.figure(figsize=(6,6))\n",
    "sns.heatmap(cm_RF_1, annot=True, fmt=\".0f\", linewidths=.5, square = True, cmap = 'Blues');\n",
    "plt.title('Random Forest Confusion Matrix');\n",
    "plt.ylabel('Actual label');\n",
    "plt.xlabel('Predicted label');"
   ]
  },
  {
   "cell_type": "markdown",
   "metadata": {},
   "source": [
    "Considering that I used the information that I have, we can conclude that after feature engineering in the dataset the F1 score for the majority of the models were able to present a slightly increased and my goal for minimizing the false negative was reached when the majority of the models presenting a slight decrease for the False Negative."
   ]
  }
 ],
 "metadata": {
  "kernelspec": {
   "display_name": "Python 3",
   "language": "python",
   "name": "python3"
  },
  "language_info": {
   "codemirror_mode": {
    "name": "ipython",
    "version": 3
   },
   "file_extension": ".py",
   "mimetype": "text/x-python",
   "name": "python",
   "nbconvert_exporter": "python",
   "pygments_lexer": "ipython3",
   "version": "3.7.3"
  }
 },
 "nbformat": 4,
 "nbformat_minor": 2
}
