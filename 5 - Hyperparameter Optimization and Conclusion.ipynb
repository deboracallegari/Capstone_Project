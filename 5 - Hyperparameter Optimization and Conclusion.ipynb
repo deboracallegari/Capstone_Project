{
 "cells": [
  {
   "cell_type": "markdown",
   "metadata": {},
   "source": [
    "## Capstone Project - Default of Credit Card Clients\n",
    "\n",
    "Prepared by Debora Callegari"
   ]
  },
  {
   "cell_type": "markdown",
   "metadata": {},
   "source": [
    "### Imports"
   ]
  },
  {
   "cell_type": "code",
   "execution_count": 1,
   "metadata": {},
   "outputs": [],
   "source": [
    "#Importing the necessary packages:\n",
    "\n",
    "import numpy as np\n",
    "import pandas as pd\n",
    "import seaborn as sns\n",
    "import matplotlib.pyplot as plt\n",
    "%matplotlib inline\n",
    "\n",
    "import matplotlib.gridspec as gridspec\n",
    "\n",
    "import statsmodels.api as sm\n",
    "\n",
    "from sklearn.linear_model import LogisticRegression\n",
    "from sklearn.tree import DecisionTreeClassifier\n",
    "from sklearn.metrics import accuracy_score, confusion_matrix, recall_score, f1_score, precision_score\n",
    "from sklearn.model_selection import train_test_split\n",
    "from sklearn import metrics\n",
    "\n",
    "from sklearn.preprocessing import StandardScaler\n",
    "from sklearn import preprocessing\n",
    "from sklearn.model_selection import cross_val_score\n",
    "from sklearn.metrics import classification_report\n",
    "from sklearn.model_selection import GridSearchCV\n",
    "from sklearn.ensemble import GradientBoostingClassifier\n",
    "\n",
    "\n",
    "import warnings\n",
    "warnings.filterwarnings('ignore')"
   ]
  },
  {
   "cell_type": "markdown",
   "metadata": {},
   "source": [
    "### Step 10: Hyperparameter Optimization"
   ]
  },
  {
   "cell_type": "markdown",
   "metadata": {},
   "source": [
    "#### Splitting the data and tuning hyparemeters"
   ]
  },
  {
   "cell_type": "code",
   "execution_count": 98,
   "metadata": {},
   "outputs": [],
   "source": [
    "X_new = feat_eng_data.drop('default', axis=1)\n",
    "y_new = feat_eng_data['default']"
   ]
  },
  {
   "cell_type": "code",
   "execution_count": 99,
   "metadata": {},
   "outputs": [
    {
     "name": "stdout",
     "output_type": "stream",
     "text": [
      "X_new shape: (29623, 80)\n",
      "y_new shape: (29623,)\n"
     ]
    }
   ],
   "source": [
    "print(\"X_new shape:\", X_new.shape)\n",
    "print(\"y_new shape:\", y_new.shape)"
   ]
  },
  {
   "cell_type": "code",
   "execution_count": 100,
   "metadata": {},
   "outputs": [],
   "source": [
    "# Splitting into training and test sets\n",
    "X_train, X_test, y_train, y_test = train_test_split(X_new, y_new, test_size=0.2, stratify = y_1, random_state=42)"
   ]
  },
  {
   "cell_type": "code",
   "execution_count": 101,
   "metadata": {},
   "outputs": [
    {
     "name": "stdout",
     "output_type": "stream",
     "text": [
      "X_train shape: (23698, 80)\n",
      "y_train shape: (23698,)\n",
      "X_test shape: (5925, 80)\n",
      "y_test shape: (5925,)\n"
     ]
    }
   ],
   "source": [
    "print(\"X_train shape:\", X_train.shape)\n",
    "print(\"y_train shape:\", y_train.shape)\n",
    "print(\"X_test shape:\", X_test.shape)\n",
    "print(\"y_test shape:\", y_test.shape)"
   ]
  },
  {
   "cell_type": "code",
   "execution_count": 102,
   "metadata": {},
   "outputs": [],
   "source": [
    "#Transforming data\n",
    "scaler = StandardScaler()\n",
    "scaler.fit(X_train)\n",
    "X_train = scaler.transform(X_train)\n",
    "X_test = scaler.transform(X_test)"
   ]
  },
  {
   "cell_type": "markdown",
   "metadata": {},
   "source": [
    "#### 10.1. Logistic Regression"
   ]
  },
  {
   "cell_type": "code",
   "execution_count": 103,
   "metadata": {},
   "outputs": [
    {
     "data": {
      "text/plain": [
       "{'C': 0.2782559402207126, 'penalty': 'l1'}"
      ]
     },
     "execution_count": 103,
     "metadata": {},
     "output_type": "execute_result"
    }
   ],
   "source": [
    "# Applying Grid Search to find the best parameters\n",
    "\n",
    "LR_model_new = LogisticRegression(class_weight='balanced')\n",
    "\n",
    "param_grid = { \n",
    "    'C': np.logspace(-5,5,10),\n",
    "    'penalty' :[\"l1\",\"l2\"]\n",
    "}\n",
    "\n",
    "CV_LR = GridSearchCV(estimator=LR_model_new, param_grid=param_grid, cv= 5)\n",
    "CV_LR.fit(X_train, y_train)\n",
    "CV_LR.best_params_"
   ]
  },
  {
   "cell_type": "code",
   "execution_count": 104,
   "metadata": {},
   "outputs": [
    {
     "data": {
      "text/plain": [
       "LogisticRegression(C=0.2782559402207126, class_weight='balanced', dual=False,\n",
       "          fit_intercept=True, intercept_scaling=1, max_iter=100,\n",
       "          multi_class='warn', n_jobs=None, penalty='l1', random_state=None,\n",
       "          solver='warn', tol=0.0001, verbose=0, warm_start=False)"
      ]
     },
     "execution_count": 104,
     "metadata": {},
     "output_type": "execute_result"
    }
   ],
   "source": [
    "CV_LR.best_estimator_"
   ]
  },
  {
   "cell_type": "code",
   "execution_count": 105,
   "metadata": {},
   "outputs": [
    {
     "name": "stdout",
     "output_type": "stream",
     "text": [
      "Train Precision: 50.968\n",
      "Train Recall: 56.281\n",
      "Train F1: 53.493\n",
      "\n",
      "\n",
      "Test Precision: 50.679\n",
      "Test Recall: 56.990\n",
      "Test F1: 53.650\n"
     ]
    }
   ],
   "source": [
    "# Evaluating the model\n",
    "y_pred_train_LR_new = CV_LR.predict(X_train)\n",
    "y_pred_test_LR_new = CV_LR.predict(X_test)\n",
    "\n",
    "print(f\"Train Precision: {100*precision_score(y_train, y_pred_train_LR_new):3.3f}\")\n",
    "print(f\"Train Recall: {100*recall_score(y_train, y_pred_train_LR_new):3.3f}\")\n",
    "print(f\"Train F1: {100*f1_score(y_train, y_pred_train_LR_new):3.3f}\")\n",
    "\n",
    "print('\\n')\n",
    "\n",
    "print(f\"Test Precision: {100*precision_score(y_test, y_pred_test_LR_new):3.3f}\")\n",
    "print(f\"Test Recall: {100*recall_score(y_test, y_pred_test_LR_new):3.3f}\")\n",
    "print(f\"Test F1: {100*f1_score(y_test, y_pred_test_LR_new):3.3f}\")"
   ]
  },
  {
   "cell_type": "code",
   "execution_count": 106,
   "metadata": {},
   "outputs": [
    {
     "name": "stdout",
     "output_type": "stream",
     "text": [
      "              precision    recall  f1-score   support\n",
      "\n",
      "           0       0.87      0.84      0.86      4616\n",
      "           1       0.51      0.57      0.54      1309\n",
      "\n",
      "   micro avg       0.78      0.78      0.78      5925\n",
      "   macro avg       0.69      0.71      0.70      5925\n",
      "weighted avg       0.79      0.78      0.79      5925\n",
      "\n"
     ]
    }
   ],
   "source": [
    "# Getting the classification report\n",
    "print(classification_report(y_test, y_pred_test_LR_new))"
   ]
  },
  {
   "cell_type": "code",
   "execution_count": 107,
   "metadata": {},
   "outputs": [
    {
     "name": "stdout",
     "output_type": "stream",
     "text": [
      "[[3890  726]\n",
      " [ 563  746]]\n"
     ]
    },
    {
     "data": {
      "image/png": "[encoded data removed]",
      "text/plain": [
       "<Figure size 432x432 with 2 Axes>"
      ]
     },
     "metadata": {
      "needs_background": "light"
     },
     "output_type": "display_data"
    }
   ],
   "source": [
    "# Getting the confusion matrix\n",
    "cm_LR_new = confusion_matrix(y_test, y_pred_test_LR_new)\n",
    "print(cm_LR_new)\n",
    "\n",
    "# Plotting the confusion matrix with seaborn\n",
    "plt.figure(figsize=(6,6))\n",
    "sns.heatmap(cm_LR_new, annot=True, fmt=\".0f\", linewidths=.5, square = True, cmap = 'Blues');\n",
    "plt.title('Logistic regression Confusion Matrix');\n",
    "plt.ylabel('Actual label');\n",
    "plt.xlabel('Predicted label');"
   ]
  },
  {
   "cell_type": "markdown",
   "metadata": {},
   "source": [
    "#### 10.2. Decision Tree"
   ]
  },
  {
   "cell_type": "code",
   "execution_count": 108,
   "metadata": {},
   "outputs": [
    {
     "data": {
      "text/plain": [
       "{'criterion': 'entropy',\n",
       " 'max_depth': 4,\n",
       " 'max_features': 'sqrt',\n",
       " 'max_leaf_nodes': 100,\n",
       " 'min_samples_leaf': 10}"
      ]
     },
     "execution_count": 108,
     "metadata": {},
     "output_type": "execute_result"
    }
   ],
   "source": [
    "# Applying Grid Search to find the best parameters\n",
    "\n",
    "DT_model_new = DecisionTreeClassifier()\n",
    "\n",
    "param_grid = { \n",
    "    'max_features': ['sqrt', 'log2'],\n",
    "    'max_depth' : [4,8,12,16,20],\n",
    "    'min_samples_leaf' : [1, 5, 10, 20, 50, 100],\n",
    "    'criterion' :['entropy','gini'],\n",
    "    'max_leaf_nodes' :[100,150,200]\n",
    "}\n",
    "\n",
    "CV_DT = GridSearchCV(estimator=DT_model_new, param_grid=param_grid, cv= 10)\n",
    "CV_DT.fit(X_train, y_train)\n",
    "CV_DT.best_params_"
   ]
  },
  {
   "cell_type": "code",
   "execution_count": 109,
   "metadata": {},
   "outputs": [
    {
     "name": "stdout",
     "output_type": "stream",
     "text": [
      "Train Precision: 69.632\n",
      "Train Recall: 24.208\n",
      "Train F1: 35.926\n",
      "\n",
      "\n",
      "Test Precision: 68.623\n",
      "Test Recall: 25.898\n",
      "Test F1: 37.604\n"
     ]
    }
   ],
   "source": [
    "# Evaluating the model \n",
    "y_pred_train_DT_new = CV_DT.predict(X_train)\n",
    "y_pred_test_DT_new = CV_DT.predict(X_test)\n",
    "\n",
    "print(f\"Train Precision: {100*precision_score(y_train, y_pred_train_DT_new):3.3f}\")\n",
    "print(f\"Train Recall: {100*recall_score(y_train, y_pred_train_DT_new):3.3f}\")\n",
    "print(f\"Train F1: {100*f1_score(y_train, y_pred_train_DT_new):3.3f}\")\n",
    "\n",
    "print('\\n')\n",
    "\n",
    "print(f\"Test Precision: {100*precision_score(y_test, y_pred_test_DT_new):3.3f}\")\n",
    "print(f\"Test Recall: {100*recall_score(y_test, y_pred_test_DT_new):3.3f}\")\n",
    "print(f\"Test F1: {100*f1_score(y_test, y_pred_test_DT_new):3.3f}\")"
   ]
  },
  {
   "cell_type": "code",
   "execution_count": 110,
   "metadata": {},
   "outputs": [
    {
     "name": "stdout",
     "output_type": "stream",
     "text": [
      "              precision    recall  f1-score   support\n",
      "\n",
      "           0       0.82      0.97      0.89      4616\n",
      "           1       0.69      0.26      0.38      1309\n",
      "\n",
      "   micro avg       0.81      0.81      0.81      5925\n",
      "   macro avg       0.75      0.61      0.63      5925\n",
      "weighted avg       0.79      0.81      0.77      5925\n",
      "\n"
     ]
    }
   ],
   "source": [
    "# Getting the classification report\n",
    "print(classification_report(y_test, y_pred_test_DT_new))"
   ]
  },
  {
   "cell_type": "code",
   "execution_count": 111,
   "metadata": {},
   "outputs": [
    {
     "name": "stdout",
     "output_type": "stream",
     "text": [
      "[[4461  155]\n",
      " [ 970  339]]\n"
     ]
    },
    {
     "data": {
      "image/png": "[encoded data removed]",
      "text/plain": [
       "<Figure size 432x432 with 2 Axes>"
      ]
     },
     "metadata": {
      "needs_background": "light"
     },
     "output_type": "display_data"
    }
   ],
   "source": [
    "# Getting the confusion matrix\n",
    "cm_DT_new = confusion_matrix(y_test, y_pred_test_DT_new)\n",
    "print(cm_DT_new)\n",
    "\n",
    "# Plotting the confusion matrix with seaborn\n",
    "plt.figure(figsize=(6,6))\n",
    "sns.heatmap(cm_DT_new, annot=True, fmt=\".0f\", linewidths=.5, square = True, cmap = 'Blues');\n",
    "plt.title('Decision Tree Confusion Matrix');\n",
    "plt.ylabel('Actual label');\n",
    "plt.xlabel('Predicted label');"
   ]
  },
  {
   "cell_type": "markdown",
   "metadata": {},
   "source": [
    "#### 10.3. Support Vector Machines "
   ]
  },
  {
   "cell_type": "code",
   "execution_count": 112,
   "metadata": {},
   "outputs": [
    {
     "data": {
      "text/plain": [
       "{'C': 50, 'gamma': 1e-06}"
      ]
     },
     "execution_count": 112,
     "metadata": {},
     "output_type": "execute_result"
    }
   ],
   "source": [
    "# Applying Grid Search to find the best parameters\n",
    "\n",
    "SVC_model_new = SVC(class_weight='balanced', kernel='rbf')\n",
    "\n",
    "param_grid = { \n",
    "    'C' : [50, 100, 150, 200, 300],\n",
    "    'gamma': [1e-3, 1e-4, 1e-6, 1e-5, 0.1, 1]\n",
    "}\n",
    "\n",
    "CV_SVC = GridSearchCV(estimator=SVC_model_new, param_grid=param_grid, cv= 5)\n",
    "CV_SVC.fit(X_train, y_train)\n",
    "CV_SVC.best_params_"
   ]
  },
  {
   "cell_type": "code",
   "execution_count": 113,
   "metadata": {},
   "outputs": [
    {
     "name": "stdout",
     "output_type": "stream",
     "text": [
      "Train Precision: 58.036\n",
      "Train Recall: 46.812\n",
      "Train F1: 51.823\n",
      "\n",
      "\n",
      "Test Precision: 58.059\n",
      "Test Recall: 48.434\n",
      "Test F1: 52.811\n"
     ]
    }
   ],
   "source": [
    "# Evaluating the model\n",
    "y_pred_train_SVC_new = CV_SVC.predict(X_train)\n",
    "y_pred_test_SVC_new = CV_SVC.predict(X_test)\n",
    "\n",
    "\n",
    "print(f\"Train Precision: {100*precision_score(y_train, y_pred_train_SVC_new):3.3f}\")\n",
    "print(f\"Train Recall: {100*recall_score(y_train, y_pred_train_SVC_new):3.3f}\")\n",
    "print(f\"Train F1: {100*f1_score(y_train, y_pred_train_SVC_new):3.3f}\")\n",
    "\n",
    "print('\\n')\n",
    "\n",
    "print(f\"Test Precision: {100*precision_score(y_test, y_pred_test_SVC_new):3.3f}\")\n",
    "print(f\"Test Recall: {100*recall_score(y_test, y_pred_test_SVC_new):3.3f}\")\n",
    "print(f\"Test F1: {100*f1_score(y_test, y_pred_test_SVC_new):3.3f}\")"
   ]
  },
  {
   "cell_type": "code",
   "execution_count": 114,
   "metadata": {},
   "outputs": [
    {
     "name": "stdout",
     "output_type": "stream",
     "text": [
      "              precision    recall  f1-score   support\n",
      "\n",
      "           0       0.86      0.90      0.88      4616\n",
      "           1       0.58      0.48      0.53      1309\n",
      "\n",
      "   micro avg       0.81      0.81      0.81      5925\n",
      "   macro avg       0.72      0.69      0.70      5925\n",
      "weighted avg       0.80      0.81      0.80      5925\n",
      "\n"
     ]
    }
   ],
   "source": [
    "# Getting the classification report\n",
    "print(classification_report(y_test, y_pred_test_SVC_new))"
   ]
  },
  {
   "cell_type": "code",
   "execution_count": 115,
   "metadata": {},
   "outputs": [
    {
     "name": "stdout",
     "output_type": "stream",
     "text": [
      "[[4158  458]\n",
      " [ 675  634]]\n"
     ]
    },
    {
     "data": {
      "image/png": "[encoded data removed]",
      "text/plain": [
       "<Figure size 432x432 with 2 Axes>"
      ]
     },
     "metadata": {
      "needs_background": "light"
     },
     "output_type": "display_data"
    }
   ],
   "source": [
    "# Getting the confusion matrix\n",
    "cm_SVC_new = confusion_matrix(y_test, y_pred_test_SVC_new)\n",
    "print(cm_SVC_new)\n",
    "\n",
    "# Plotting the confusion matrix with seaborn\n",
    "plt.figure(figsize=(6,6))\n",
    "sns.heatmap(cm_SVC_new, annot=True, fmt=\".0f\", linewidths=.5, square = True, cmap = 'Blues');\n",
    "plt.title('SVC Confusion Matrix');\n",
    "plt.ylabel('Actual label');\n",
    "plt.xlabel('Predicted label');"
   ]
  },
  {
   "cell_type": "markdown",
   "metadata": {},
   "source": [
    "#### 10.4. Random Forest"
   ]
  },
  {
   "cell_type": "code",
   "execution_count": 116,
   "metadata": {},
   "outputs": [
    {
     "data": {
      "text/plain": [
       "{'bootstrap': False,\n",
       " 'max_depth': 20,\n",
       " 'min_samples_split': 100,\n",
       " 'n_estimators': 100}"
      ]
     },
     "execution_count": 116,
     "metadata": {},
     "output_type": "execute_result"
    }
   ],
   "source": [
    "# Applying Grid Search to find the best parameters\n",
    "\n",
    "RF_model_new = RandomForestClassifier()\n",
    "\n",
    "param_grid = {\n",
    "    'n_estimators': [100,150,200],\n",
    "    'max_depth' : [5,10],\n",
    "    'min_samples_split': [50, 100],\n",
    "    'bootstrap': [True, False]\n",
    "}\n",
    "\n",
    "CV_RF = GridSearchCV(estimator=RF_model_new, param_grid=param_grid, cv= 5)\n",
    "CV_RF.fit(X_train, y_train)\n",
    "CV_RF.best_params_"
   ]
  },
  {
   "cell_type": "code",
   "execution_count": 117,
   "metadata": {},
   "outputs": [
    {
     "name": "stdout",
     "output_type": "stream",
     "text": [
      "Train Precision: 75.571\n",
      "Train Recall: 41.695\n",
      "Train F1: 53.740\n",
      "\n",
      "\n",
      "Test Precision: 67.945\n",
      "Test Recall: 37.892\n",
      "Test F1: 48.651\n"
     ]
    }
   ],
   "source": [
    "# Evaluating the model\n",
    "\n",
    "y_pred_train_RF_new = CV_RF.predict(X_train)\n",
    "y_pred_test_RF_new = CV_RF.predict(X_test)\n",
    "\n",
    "\n",
    "print(f\"Train Precision: {100*precision_score(y_train, y_pred_train_RF_new):3.3f}\")\n",
    "print(f\"Train Recall: {100*recall_score(y_train, y_pred_train_RF_new):3.3f}\")\n",
    "print(f\"Train F1: {100*f1_score(y_train, y_pred_train_RF_new):3.3f}\")\n",
    "\n",
    "print('\\n')\n",
    "\n",
    "print(f\"Test Precision: {100*precision_score(y_test, y_pred_test_RF_new):3.3f}\")\n",
    "print(f\"Test Recall: {100*recall_score(y_test, y_pred_test_RF_new):3.3f}\")\n",
    "print(f\"Test F1: {100*f1_score(y_test, y_pred_test_RF_new):3.3f}\")"
   ]
  },
  {
   "cell_type": "code",
   "execution_count": 118,
   "metadata": {},
   "outputs": [
    {
     "name": "stdout",
     "output_type": "stream",
     "text": [
      "              precision    recall  f1-score   support\n",
      "\n",
      "           0       0.84      0.95      0.89      4616\n",
      "           1       0.68      0.38      0.49      1309\n",
      "\n",
      "   micro avg       0.82      0.82      0.82      5925\n",
      "   macro avg       0.76      0.66      0.69      5925\n",
      "weighted avg       0.81      0.82      0.80      5925\n",
      "\n"
     ]
    }
   ],
   "source": [
    "# Getting the classification report\n",
    "print(classification_report(y_test, y_pred_test_RF_new))"
   ]
  },
  {
   "cell_type": "code",
   "execution_count": 119,
   "metadata": {},
   "outputs": [
    {
     "name": "stdout",
     "output_type": "stream",
     "text": [
      "[[4382  234]\n",
      " [ 813  496]]\n"
     ]
    },
    {
     "data": {
      "image/png": "[encoded data removed]",
      "text/plain": [
       "<Figure size 432x432 with 2 Axes>"
      ]
     },
     "metadata": {
      "needs_background": "light"
     },
     "output_type": "display_data"
    }
   ],
   "source": [
    "# Getting the confusion matrix\n",
    "cm_RF_new = confusion_matrix(y_test, y_pred_test_RF_new)\n",
    "print(cm_RF_new)\n",
    "\n",
    "# Plotting the confusion matrix with seaborn\n",
    "plt.figure(figsize=(6,6))\n",
    "sns.heatmap(cm_RF_new, annot=True, fmt=\".0f\", linewidths=.5, square = True, cmap = 'Blues');\n",
    "plt.title('Random Forest Confusion Matrix');\n",
    "plt.ylabel('Actual label');\n",
    "plt.xlabel('Predicted label');"
   ]
  },
  {
   "cell_type": "markdown",
   "metadata": {},
   "source": [
    "#### 10.5. Gradient Boosting"
   ]
  },
  {
   "cell_type": "code",
   "execution_count": 120,
   "metadata": {},
   "outputs": [
    {
     "data": {
      "text/plain": [
       "{'min_samples_split': 3, 'n_estimators': 50}"
      ]
     },
     "execution_count": 120,
     "metadata": {},
     "output_type": "execute_result"
    }
   ],
   "source": [
    "# Applying Grid Search to find the best model and the best parameters\n",
    "\n",
    "GB_model_new = GradientBoostingClassifier()\n",
    "\n",
    "param_grid = { \n",
    "    'n_estimators' :[25,50,100,150],\n",
    "    'min_samples_split' :[3,15,50]\n",
    "}\n",
    "\n",
    "CV_GB = GridSearchCV(estimator=GB_model_new, param_grid=param_grid, cv= 5)\n",
    "CV_GB.fit(X_train, y_train)\n",
    "CV_GB.best_params_"
   ]
  },
  {
   "cell_type": "code",
   "execution_count": 122,
   "metadata": {},
   "outputs": [
    {
     "name": "stdout",
     "output_type": "stream",
     "text": [
      "Train Precision: 68.225\n",
      "Train Recall: 35.949\n",
      "Train F1: 47.087\n",
      "\n",
      "\n",
      "Test Precision: 68.094\n",
      "Test Recall: 37.662\n",
      "Test F1: 48.500\n"
     ]
    }
   ],
   "source": [
    "# Evaluating the model \n",
    "y_pred_train_GB_new = CV_GB.predict(X_train)\n",
    "y_pred_test_GB_new = CV_GB.predict(X_test)\n",
    "\n",
    "print(f\"Train Precision: {100*precision_score(y_train, y_pred_train_GB_new):3.3f}\")\n",
    "print(f\"Train Recall: {100*recall_score(y_train, y_pred_train_GB_new):3.3f}\")\n",
    "print(f\"Train F1: {100*f1_score(y_train, y_pred_train_GB_new):3.3f}\")\n",
    "\n",
    "print('\\n')\n",
    "\n",
    "print(f\"Test Precision: {100*precision_score(y_test, y_pred_test_GB_new):3.3f}\")\n",
    "print(f\"Test Recall: {100*recall_score(y_test, y_pred_test_GB_new):3.3f}\")\n",
    "print(f\"Test F1: {100*f1_score(y_test, y_pred_test_GB_new):3.3f}\")"
   ]
  },
  {
   "cell_type": "code",
   "execution_count": 123,
   "metadata": {},
   "outputs": [
    {
     "name": "stdout",
     "output_type": "stream",
     "text": [
      "              precision    recall  f1-score   support\n",
      "\n",
      "           0       0.84      0.95      0.89      4616\n",
      "           1       0.68      0.38      0.48      1309\n",
      "\n",
      "   micro avg       0.82      0.82      0.82      5925\n",
      "   macro avg       0.76      0.66      0.69      5925\n",
      "weighted avg       0.81      0.82      0.80      5925\n",
      "\n"
     ]
    }
   ],
   "source": [
    "# Getting the classification report\n",
    "print(classification_report(y_test, y_pred_test_GB_new))"
   ]
  },
  {
   "cell_type": "code",
   "execution_count": 124,
   "metadata": {},
   "outputs": [
    {
     "name": "stdout",
     "output_type": "stream",
     "text": [
      "[[4385  231]\n",
      " [ 816  493]]\n"
     ]
    },
    {
     "data": {
      "image/png": "[encoded data removed]",
      "text/plain": [
       "<Figure size 432x432 with 2 Axes>"
      ]
     },
     "metadata": {
      "needs_background": "light"
     },
     "output_type": "display_data"
    }
   ],
   "source": [
    "# Getting the confusion matrix\n",
    "cm_GB_new = confusion_matrix(y_test, y_pred_test_GB_new)\n",
    "print(cm_GB_new)\n",
    "\n",
    "# Plotting the confusion matrix with seaborn\n",
    "plt.figure(figsize=(6,6))\n",
    "sns.heatmap(cm_GB_new, annot=True, fmt=\".0f\", linewidths=.5, square = True, cmap = 'Blues');\n",
    "plt.title('GB Confusion Matrix');\n",
    "plt.ylabel('Actual label');\n",
    "plt.xlabel('Predicted label');"
   ]
  },
  {
   "cell_type": "markdown",
   "metadata": {},
   "source": [
    "### Future approaches"
   ]
  },
  {
   "cell_type": "markdown",
   "metadata": {},
   "source": [
    "Considering all the previous results, using the right evaluation metrics or trying feature engineering, I did not see a big improvement. The models don't appear to perform much better after feature engineering. The F1 score improved just a little bit and the false negatives were slightly lower in the models. Hence, the feature engineering didn't have a big impact on the methods I used.\n",
    "\n",
    "Finally, I believe that some future approaches will provide better results and expand the goals for this project. Some of them are listed below: \n",
    "\n",
    "- Adding better features: I believe it is important to add features that would have the relevant financial information and would improve the final results.  \n",
    "\n",
    "- Getting a longer history of payment: It's a challenge to define the number of data points that would be needed, however, it's usually better to train the model with bigger datasets. For instance, I could try the same models with 4 months of transactions history to see what the results would be in this case.\n",
    "\n",
    "- Trying different approaches for imbalanced data: There are other options to handle imbalanced classes, such as resampling techniques (oversample minority class or undersample majority class), feature selection or SMOTE. Even though it's important to consider that information could be lost, I believe that trying different techniques and comparing the final results could be another approach to take.\n",
    "\n",
    "- Getting a better classification algorithm and better hyper-parameters: It will be good to try an advanced implementation of the gradient boosting algorithm like XGBoost. Also, it is also a good technique that can work faster than the gradient boosting. Also, it will be one option try stacking the models because usually tend to have a high predictive influence in the results.\n",
    "\n",
    "- Analyze the importance of each feature: Try to understand the coefficients and the importance of the features for the models and the correlation that the features have with the target variable (direct or indirect) and see how the model will perform after this approach."
   ]
  }
 ],
 "metadata": {
  "kernelspec": {
   "display_name": "Python 3",
   "language": "python",
   "name": "python3"
  },
  "language_info": {
   "codemirror_mode": {
    "name": "ipython",
    "version": 3
   },
   "file_extension": ".py",
   "mimetype": "text/x-python",
   "name": "python",
   "nbconvert_exporter": "python",
   "pygments_lexer": "ipython3",
   "version": "3.7.3"
  }
 },
 "nbformat": 4,
 "nbformat_minor": 2
}
