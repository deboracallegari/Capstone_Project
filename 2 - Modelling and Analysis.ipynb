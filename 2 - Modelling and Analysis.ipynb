{
 "cells": [
  {
   "cell_type": "markdown",
   "metadata": {},
   "source": [
    "## Capstone Project - Default of Credit Card Clients\n",
    "\n",
    "Prepared by Debora Callegari"
   ]
  },
  {
   "cell_type": "markdown",
   "metadata": {},
   "source": [
    "### Imports"
   ]
  },
  {
   "cell_type": "code",
   "execution_count": 1,
   "metadata": {},
   "outputs": [],
   "source": [
    "#Importing the necessary packages:\n",
    "\n",
    "import numpy as np\n",
    "import pandas as pd\n",
    "import seaborn as sns\n",
    "import matplotlib.pyplot as plt\n",
    "%matplotlib inline\n",
    "\n",
    "import matplotlib.gridspec as gridspec\n",
    "\n",
    "import statsmodels.api as sm\n",
    "\n",
    "from sklearn.linear_model import LogisticRegression\n",
    "from sklearn.tree import DecisionTreeClassifier\n",
    "from sklearn.metrics import accuracy_score, confusion_matrix, recall_score, f1_score, precision_score\n",
    "from sklearn.model_selection import train_test_split\n",
    "from sklearn import metrics\n",
    "\n",
    "from sklearn.preprocessing import StandardScaler\n",
    "from sklearn import preprocessing\n",
    "from sklearn.model_selection import cross_val_score\n",
    "from sklearn.metrics import classification_report\n",
    "from sklearn.model_selection import GridSearchCV\n",
    "from sklearn.ensemble import GradientBoostingClassifier\n",
    "\n",
    "\n",
    "import warnings\n",
    "warnings.filterwarnings('ignore')"
   ]
  },
  {
   "cell_type": "markdown",
   "metadata": {},
   "source": [
    "### Step 5: Splitting the data"
   ]
  },
  {
   "cell_type": "code",
   "execution_count": 51,
   "metadata": {},
   "outputs": [
    {
     "data": {
      "text/html": [
       "<div>\n",
       "<style scoped>\n",
       "    .dataframe tbody tr th:only-of-type {\n",
       "        vertical-align: middle;\n",
       "    }\n",
       "\n",
       "    .dataframe tbody tr th {\n",
       "        vertical-align: top;\n",
       "    }\n",
       "\n",
       "    .dataframe thead th {\n",
       "        text-align: right;\n",
       "    }\n",
       "</style>\n",
       "<table border=\"1\" class=\"dataframe\">\n",
       "  <thead>\n",
       "    <tr style=\"text-align: right;\">\n",
       "      <th></th>\n",
       "      <th>limit_bal</th>\n",
       "      <th>age</th>\n",
       "      <th>bill_amt1</th>\n",
       "      <th>bill_amt2</th>\n",
       "      <th>bill_amt3</th>\n",
       "      <th>bill_amt4</th>\n",
       "      <th>bill_amt5</th>\n",
       "      <th>bill_amt6</th>\n",
       "      <th>pay_amt1</th>\n",
       "      <th>pay_amt2</th>\n",
       "      <th>...</th>\n",
       "      <th>pay_5_7</th>\n",
       "      <th>pay_5_8</th>\n",
       "      <th>pay_6_0</th>\n",
       "      <th>pay_6_2</th>\n",
       "      <th>pay_6_3</th>\n",
       "      <th>pay_6_4</th>\n",
       "      <th>pay_6_5</th>\n",
       "      <th>pay_6_6</th>\n",
       "      <th>pay_6_7</th>\n",
       "      <th>pay_6_8</th>\n",
       "    </tr>\n",
       "    <tr>\n",
       "      <th>ID</th>\n",
       "      <th></th>\n",
       "      <th></th>\n",
       "      <th></th>\n",
       "      <th></th>\n",
       "      <th></th>\n",
       "      <th></th>\n",
       "      <th></th>\n",
       "      <th></th>\n",
       "      <th></th>\n",
       "      <th></th>\n",
       "      <th></th>\n",
       "      <th></th>\n",
       "      <th></th>\n",
       "      <th></th>\n",
       "      <th></th>\n",
       "      <th></th>\n",
       "      <th></th>\n",
       "      <th></th>\n",
       "      <th></th>\n",
       "      <th></th>\n",
       "      <th></th>\n",
       "    </tr>\n",
       "  </thead>\n",
       "  <tbody>\n",
       "    <tr>\n",
       "      <th>1</th>\n",
       "      <td>20000.0</td>\n",
       "      <td>24</td>\n",
       "      <td>3913.0</td>\n",
       "      <td>3102.0</td>\n",
       "      <td>689.0</td>\n",
       "      <td>0.0</td>\n",
       "      <td>0.0</td>\n",
       "      <td>0.0</td>\n",
       "      <td>0.0</td>\n",
       "      <td>689.0</td>\n",
       "      <td>...</td>\n",
       "      <td>0</td>\n",
       "      <td>0</td>\n",
       "      <td>1</td>\n",
       "      <td>0</td>\n",
       "      <td>0</td>\n",
       "      <td>0</td>\n",
       "      <td>0</td>\n",
       "      <td>0</td>\n",
       "      <td>0</td>\n",
       "      <td>0</td>\n",
       "    </tr>\n",
       "    <tr>\n",
       "      <th>2</th>\n",
       "      <td>120000.0</td>\n",
       "      <td>26</td>\n",
       "      <td>2682.0</td>\n",
       "      <td>1725.0</td>\n",
       "      <td>2682.0</td>\n",
       "      <td>3272.0</td>\n",
       "      <td>3455.0</td>\n",
       "      <td>3261.0</td>\n",
       "      <td>0.0</td>\n",
       "      <td>1000.0</td>\n",
       "      <td>...</td>\n",
       "      <td>0</td>\n",
       "      <td>0</td>\n",
       "      <td>0</td>\n",
       "      <td>1</td>\n",
       "      <td>0</td>\n",
       "      <td>0</td>\n",
       "      <td>0</td>\n",
       "      <td>0</td>\n",
       "      <td>0</td>\n",
       "      <td>0</td>\n",
       "    </tr>\n",
       "    <tr>\n",
       "      <th>3</th>\n",
       "      <td>90000.0</td>\n",
       "      <td>34</td>\n",
       "      <td>29239.0</td>\n",
       "      <td>14027.0</td>\n",
       "      <td>13559.0</td>\n",
       "      <td>14331.0</td>\n",
       "      <td>14948.0</td>\n",
       "      <td>15549.0</td>\n",
       "      <td>1518.0</td>\n",
       "      <td>1500.0</td>\n",
       "      <td>...</td>\n",
       "      <td>0</td>\n",
       "      <td>0</td>\n",
       "      <td>1</td>\n",
       "      <td>0</td>\n",
       "      <td>0</td>\n",
       "      <td>0</td>\n",
       "      <td>0</td>\n",
       "      <td>0</td>\n",
       "      <td>0</td>\n",
       "      <td>0</td>\n",
       "    </tr>\n",
       "    <tr>\n",
       "      <th>4</th>\n",
       "      <td>50000.0</td>\n",
       "      <td>37</td>\n",
       "      <td>46990.0</td>\n",
       "      <td>48233.0</td>\n",
       "      <td>49291.0</td>\n",
       "      <td>28314.0</td>\n",
       "      <td>28959.0</td>\n",
       "      <td>29547.0</td>\n",
       "      <td>2000.0</td>\n",
       "      <td>2019.0</td>\n",
       "      <td>...</td>\n",
       "      <td>0</td>\n",
       "      <td>0</td>\n",
       "      <td>1</td>\n",
       "      <td>0</td>\n",
       "      <td>0</td>\n",
       "      <td>0</td>\n",
       "      <td>0</td>\n",
       "      <td>0</td>\n",
       "      <td>0</td>\n",
       "      <td>0</td>\n",
       "    </tr>\n",
       "    <tr>\n",
       "      <th>5</th>\n",
       "      <td>50000.0</td>\n",
       "      <td>57</td>\n",
       "      <td>8617.0</td>\n",
       "      <td>5670.0</td>\n",
       "      <td>35835.0</td>\n",
       "      <td>20940.0</td>\n",
       "      <td>19146.0</td>\n",
       "      <td>19131.0</td>\n",
       "      <td>2000.0</td>\n",
       "      <td>36681.0</td>\n",
       "      <td>...</td>\n",
       "      <td>0</td>\n",
       "      <td>0</td>\n",
       "      <td>1</td>\n",
       "      <td>0</td>\n",
       "      <td>0</td>\n",
       "      <td>0</td>\n",
       "      <td>0</td>\n",
       "      <td>0</td>\n",
       "      <td>0</td>\n",
       "      <td>0</td>\n",
       "    </tr>\n",
       "  </tbody>\n",
       "</table>\n",
       "<p>5 rows × 75 columns</p>\n",
       "</div>"
      ],
      "text/plain": [
       "    limit_bal  age  bill_amt1  bill_amt2  bill_amt3  bill_amt4  bill_amt5  \\\n",
       "ID                                                                          \n",
       "1     20000.0   24     3913.0     3102.0      689.0        0.0        0.0   \n",
       "2    120000.0   26     2682.0     1725.0     2682.0     3272.0     3455.0   \n",
       "3     90000.0   34    29239.0    14027.0    13559.0    14331.0    14948.0   \n",
       "4     50000.0   37    46990.0    48233.0    49291.0    28314.0    28959.0   \n",
       "5     50000.0   57     8617.0     5670.0    35835.0    20940.0    19146.0   \n",
       "\n",
       "    bill_amt6  pay_amt1  pay_amt2  ...  pay_5_7  pay_5_8  pay_6_0  pay_6_2  \\\n",
       "ID                                 ...                                       \n",
       "1         0.0       0.0     689.0  ...        0        0        1        0   \n",
       "2      3261.0       0.0    1000.0  ...        0        0        0        1   \n",
       "3     15549.0    1518.0    1500.0  ...        0        0        1        0   \n",
       "4     29547.0    2000.0    2019.0  ...        0        0        1        0   \n",
       "5     19131.0    2000.0   36681.0  ...        0        0        1        0   \n",
       "\n",
       "    pay_6_3  pay_6_4  pay_6_5  pay_6_6  pay_6_7  pay_6_8  \n",
       "ID                                                        \n",
       "1         0        0        0        0        0        0  \n",
       "2         0        0        0        0        0        0  \n",
       "3         0        0        0        0        0        0  \n",
       "4         0        0        0        0        0        0  \n",
       "5         0        0        0        0        0        0  \n",
       "\n",
       "[5 rows x 75 columns]"
      ]
     },
     "execution_count": 51,
     "metadata": {},
     "output_type": "execute_result"
    }
   ],
   "source": [
    "df_dummy_2.head()"
   ]
  },
  {
   "cell_type": "code",
   "execution_count": 52,
   "metadata": {},
   "outputs": [],
   "source": [
    "# Splitting into features and target\n",
    "X = df_dummy_2.drop('default', axis=1)\n",
    "y = df_dummy_2['default']"
   ]
  },
  {
   "cell_type": "code",
   "execution_count": 53,
   "metadata": {},
   "outputs": [
    {
     "name": "stdout",
     "output_type": "stream",
     "text": [
      "X shape: (29623, 74)\n",
      "y shape: (29623,)\n"
     ]
    }
   ],
   "source": [
    "print(\"X shape:\", X.shape)\n",
    "print(\"y shape:\", y.shape)"
   ]
  },
  {
   "cell_type": "code",
   "execution_count": 54,
   "metadata": {},
   "outputs": [],
   "source": [
    "# Splitting into training and test sets\n",
    "X_train, X_test, y_train, y_test = train_test_split(X, y, test_size=0.2, stratify = y, random_state=42)"
   ]
  },
  {
   "cell_type": "code",
   "execution_count": 55,
   "metadata": {},
   "outputs": [
    {
     "name": "stdout",
     "output_type": "stream",
     "text": [
      "X_train shape: (23698, 74)\n",
      "y_train shape: (23698,)\n",
      "X_test shape: (5925, 74)\n",
      "y_test shape: (5925,)\n"
     ]
    }
   ],
   "source": [
    "print(\"X_train shape:\", X_train.shape)\n",
    "print(\"y_train shape:\", y_train.shape)\n",
    "print(\"X_test shape:\", X_test.shape)\n",
    "print(\"y_test shape:\", y_test.shape)"
   ]
  },
  {
   "cell_type": "markdown",
   "metadata": {},
   "source": [
    "To keep the balance of classes in each set, I am setting stratify equal to the target label variable."
   ]
  },
  {
   "cell_type": "code",
   "execution_count": 56,
   "metadata": {},
   "outputs": [],
   "source": [
    "#Transforming data\n",
    "scaler = StandardScaler()\n",
    "scaler.fit(X_train)\n",
    "X_train = scaler.transform(X_train)\n",
    "X_test = scaler.transform(X_test)"
   ]
  },
  {
   "cell_type": "markdown",
   "metadata": {},
   "source": [
    "### Step 6: Fitting models"
   ]
  },
  {
   "cell_type": "markdown",
   "metadata": {},
   "source": [
    "For this case, I chose 4 models, such as Logistic Regression, Decision Tree, Support Vector Machines and Random Forest (one bagging algorithm). For step 9 I tried Gradient Boosting (on boosting algorithm). It is a good start to try different models and compare the final results.\n",
    "\n",
    "There are many options to handle with imbalanced data. For this case, I chose to use class_weight, one of the simplest ways to deal with imbalance classes. It is a good approach to try it first because I will expect that the final result would be able to learn equally from both classes.\n",
    "\n",
    "The description of the parameter class_weight is showed bellow:\n",
    "\n",
    "    The “balanced” mode uses the values of y to automatically adjust weights inversely proportional to class frequencies in the input data: n_samples / (n_classes * np.bincount(y))."
   ]
  },
  {
   "cell_type": "markdown",
   "metadata": {},
   "source": [
    "#### 6.1. Logistic regression"
   ]
  },
  {
   "cell_type": "code",
   "execution_count": 53,
   "metadata": {
    "scrolled": true
   },
   "outputs": [
    {
     "name": "stdout",
     "output_type": "stream",
     "text": [
      "Train Precision: 50.979\n",
      "Train Recall: 56.186\n",
      "Train F1: 53.456\n",
      "\n",
      "\n",
      "Test Precision: 50.441\n",
      "Test Recall: 56.837\n",
      "Test F1: 53.448\n"
     ]
    }
   ],
   "source": [
    "# Fitting logistic regression model the training data\n",
    "LR_model = LogisticRegression(class_weight='balanced', random_state=42)\n",
    "LR_model.fit(X_train, y_train)\n",
    "\n",
    "# Evaluating the model\n",
    "y_pred_train_LR = LR_model.predict(X_train)\n",
    "y_pred_test_LR = LR_model.predict(X_test)\n",
    "\n",
    "print(f\"Train Precision: {100*precision_score(y_train, y_pred_train_LR):3.3f}\")\n",
    "print(f\"Train Recall: {100*recall_score(y_train, y_pred_train_LR):3.3f}\")\n",
    "print(f\"Train F1: {100*f1_score(y_train, y_pred_train_LR):3.3f}\")\n",
    "\n",
    "print('\\n')\n",
    "\n",
    "print(f\"Test Precision: {100*precision_score(y_test, y_pred_test_LR):3.3f}\")\n",
    "print(f\"Test Recall: {100*recall_score(y_test, y_pred_test_LR):3.3f}\")\n",
    "print(f\"Test F1: {100*f1_score(y_test, y_pred_test_LR):3.3f}\")"
   ]
  },
  {
   "cell_type": "code",
   "execution_count": 54,
   "metadata": {},
   "outputs": [
    {
     "name": "stdout",
     "output_type": "stream",
     "text": [
      "[0 1]\n"
     ]
    }
   ],
   "source": [
    "# Checking how many classes the model is predicting\n",
    "print(np.unique(y_pred_test_LR))"
   ]
  },
  {
   "cell_type": "code",
   "execution_count": 55,
   "metadata": {},
   "outputs": [
    {
     "name": "stdout",
     "output_type": "stream",
     "text": [
      "              precision    recall  f1-score   support\n",
      "\n",
      "           0       0.87      0.84      0.86      4616\n",
      "           1       0.50      0.57      0.53      1309\n",
      "\n",
      "   micro avg       0.78      0.78      0.78      5925\n",
      "   macro avg       0.69      0.71      0.70      5925\n",
      "weighted avg       0.79      0.78      0.79      5925\n",
      "\n"
     ]
    }
   ],
   "source": [
    "# Getting the classification report\n",
    "print(classification_report(y_test, y_pred_test_LR))"
   ]
  },
  {
   "cell_type": "markdown",
   "metadata": {},
   "source": [
    "The accuracy score for this case is not a good measure because the dataset has imbalanced classes. The accuracy can predict only class 0 (non-default) and it will be a big mistake because the accuracy for 0 is very high. So, it is important to look at other parameters, such as precision, recall and F1 score, to evaluate the model and see how well the model is performing.\n",
    "\n",
    "Considering the results above, it is tricky to compare the models because they present lower precision and higher recall. So, because of that, I will use the F1 score to compare the results. It is possible to see that the results are very close on the train and on the test set, which is good because we are avoiding over-fit the model."
   ]
  },
  {
   "cell_type": "code",
   "execution_count": 56,
   "metadata": {},
   "outputs": [
    {
     "name": "stdout",
     "output_type": "stream",
     "text": [
      "[[3885  731]\n",
      " [ 565  744]]\n"
     ]
    },
    {
     "data": {
      "image/png": "[encoded data removed]",
      "text/plain": [
       "<Figure size 432x432 with 2 Axes>"
      ]
     },
     "metadata": {
      "needs_background": "light"
     },
     "output_type": "display_data"
    }
   ],
   "source": [
    "# Getting the confusion matrix\n",
    "cm_LR = confusion_matrix(y_test, y_pred_test_LR)\n",
    "print(cm_LR)\n",
    "\n",
    "# Plotting the confusion matrix with seaborn\n",
    "plt.figure(figsize=(6,6))\n",
    "sns.heatmap(cm_LR, annot=True, fmt=\".0f\", linewidths=.5, square = True, cmap = 'Blues');\n",
    "plt.title('Logistic regression Confusion Matrix');\n",
    "plt.ylabel('Actual label');\n",
    "plt.xlabel('Predicted label');"
   ]
  },
  {
   "cell_type": "markdown",
   "metadata": {},
   "source": [
    "As I mentioned before, I am considering that `default` as positive class and `non-default` as negative class. So, for this binary classification problem, we can see that there are two types of errors that the model can do:\n",
    "\n",
    "    - Predict that the client will pay when in fact he will default (False Negative)\n",
    "    - Predict that the client will default when in fact he will pay (False Positive)\n",
    "\n",
    "The confusion matrix above showed that the sum of the correct predictions that the model made is equal to 4629 (TN + TP = 3885 + 744). Also, it is possible to see that the model predicted 1296 labels incorrectly. Which means that the model predicted that 565 clients will pay the credit card amount when actually they will default. And the model predicted that 731 clients will default the credit card payment when actually they will pay."
   ]
  },
  {
   "cell_type": "markdown",
   "metadata": {},
   "source": [
    "#### 6.2. Decision Tree"
   ]
  },
  {
   "cell_type": "code",
   "execution_count": 57,
   "metadata": {},
   "outputs": [
    {
     "name": "stdout",
     "output_type": "stream",
     "text": [
      "Train Precision: 99.658\n",
      "Train Recall: 100.000\n",
      "Train F1: 99.828\n",
      "\n",
      "\n",
      "Test Precision: 38.692\n",
      "Test Recall: 38.426\n",
      "Test F1: 38.559\n"
     ]
    }
   ],
   "source": [
    "# Fitting Decision Tree model to the training data\n",
    "DT_model = DecisionTreeClassifier(class_weight='balanced', random_state=42)\n",
    "DT_model.fit(X_train, y_train)\n",
    "\n",
    "# Evaluating the model\n",
    "y_pred_train_DT = DT_model.predict(X_train)\n",
    "y_pred_test_DT = DT_model.predict(X_test)\n",
    "\n",
    "print(f\"Train Precision: {100*precision_score(y_train, y_pred_train_DT):3.3f}\")\n",
    "print(f\"Train Recall: {100*recall_score(y_train, y_pred_train_DT):3.3f}\")\n",
    "print(f\"Train F1: {100*f1_score(y_train, y_pred_train_DT):3.3f}\")\n",
    "\n",
    "print('\\n')\n",
    "\n",
    "print(f\"Test Precision: {100*precision_score(y_test, y_pred_test_DT):3.3f}\")\n",
    "print(f\"Test Recall: {100*recall_score(y_test, y_pred_test_DT):3.3f}\")\n",
    "print(f\"Test F1: {100*f1_score(y_test, y_pred_test_DT):3.3f}\")"
   ]
  },
  {
   "cell_type": "code",
   "execution_count": 58,
   "metadata": {},
   "outputs": [
    {
     "name": "stdout",
     "output_type": "stream",
     "text": [
      "              precision    recall  f1-score   support\n",
      "\n",
      "           0       0.83      0.83      0.83      4616\n",
      "           1       0.39      0.38      0.39      1309\n",
      "\n",
      "   micro avg       0.73      0.73      0.73      5925\n",
      "   macro avg       0.61      0.61      0.61      5925\n",
      "weighted avg       0.73      0.73      0.73      5925\n",
      "\n"
     ]
    }
   ],
   "source": [
    "# Getting the classification report\n",
    "print(classification_report(y_test, y_pred_test_DT))"
   ]
  },
  {
   "cell_type": "markdown",
   "metadata": {},
   "source": [
    "For the Decision Tree, the previous results show that the training F1 score is much higher than the test F1 score, so here we are not avoiding over-fit the model."
   ]
  },
  {
   "cell_type": "code",
   "execution_count": 59,
   "metadata": {},
   "outputs": [
    {
     "name": "stdout",
     "output_type": "stream",
     "text": [
      "[[3819  797]\n",
      " [ 806  503]]\n"
     ]
    },
    {
     "data": {
      "image/png": "[encoded data removed]",
      "text/plain": [
       "<Figure size 432x432 with 2 Axes>"
      ]
     },
     "metadata": {
      "needs_background": "light"
     },
     "output_type": "display_data"
    }
   ],
   "source": [
    "# Getting the confusion matrix\n",
    "cm_DT = confusion_matrix(y_test, y_pred_test_DT)\n",
    "print(cm_DT)\n",
    "\n",
    "# Plotting the confusion matrix with seaborn\n",
    "plt.figure(figsize=(6,6))\n",
    "sns.heatmap(cm_DT, annot=True, fmt=\".0f\", linewidths=.5, square = True, cmap = 'Blues');\n",
    "plt.title('Decision Tree Confusion Matrix');\n",
    "plt.ylabel('Actual label');\n",
    "plt.xlabel('Predicted label');"
   ]
  },
  {
   "cell_type": "markdown",
   "metadata": {},
   "source": [
    "The confusion matrix above showed that the sum of the correct predictions that the model made is equal to 4322 (TN + TP = 3819 + 503). Also, it is possible to see that the model predicted 1603 labels incorrectly. Which means that the model predicted that 806 clients will pay the credit card amount when actually they will default. And the model predicted that 797 clients will default the credit card payment when actually they will pay."
   ]
  },
  {
   "cell_type": "markdown",
   "metadata": {},
   "source": [
    "#### 6.3.  Support Vector Machines"
   ]
  },
  {
   "cell_type": "code",
   "execution_count": 60,
   "metadata": {},
   "outputs": [
    {
     "name": "stdout",
     "output_type": "stream",
     "text": [
      "Train Precision: 47.879\n",
      "Train Recall: 61.397\n",
      "Train F1: 53.802\n",
      "\n",
      "\n",
      "Test Precision: 46.774\n",
      "Test Recall: 62.032\n",
      "Test F1: 53.333\n"
     ]
    }
   ],
   "source": [
    "from sklearn.svm import SVC\n",
    "\n",
    "SVC_model = SVC(kernel='rbf', class_weight='balanced', probability=True)\n",
    "SVC_model.fit(X_train, y_train)\n",
    "\n",
    "# Evaluating the model\n",
    "y_pred_train_SVC = SVC_model.predict(X_train)\n",
    "y_pred_test_SVC = SVC_model.predict(X_test)\n",
    "\n",
    "print(f\"Train Precision: {100*precision_score(y_train, y_pred_train_SVC):3.3f}\")\n",
    "print(f\"Train Recall: {100*recall_score(y_train, y_pred_train_SVC):3.3f}\")\n",
    "print(f\"Train F1: {100*f1_score(y_train, y_pred_train_SVC):3.3f}\")\n",
    "\n",
    "print('\\n')\n",
    "\n",
    "print(f\"Test Precision: {100*precision_score(y_test, y_pred_test_SVC):3.3f}\")\n",
    "print(f\"Test Recall: {100*recall_score(y_test, y_pred_test_SVC):3.3f}\")\n",
    "print(f\"Test F1: {100*f1_score(y_test, y_pred_test_SVC):3.3f}\")"
   ]
  },
  {
   "cell_type": "code",
   "execution_count": 61,
   "metadata": {},
   "outputs": [
    {
     "name": "stdout",
     "output_type": "stream",
     "text": [
      "              precision    recall  f1-score   support\n",
      "\n",
      "           0       0.88      0.80      0.84      4616\n",
      "           1       0.47      0.62      0.53      1309\n",
      "\n",
      "   micro avg       0.76      0.76      0.76      5925\n",
      "   macro avg       0.67      0.71      0.69      5925\n",
      "weighted avg       0.79      0.76      0.77      5925\n",
      "\n"
     ]
    }
   ],
   "source": [
    "# Getting the classification report\n",
    "print(classification_report(y_test, y_pred_test_SVC))"
   ]
  },
  {
   "cell_type": "markdown",
   "metadata": {},
   "source": [
    "Considering the results above, it is tricky to compare the models because they present low precision and high recall. So, because of that, I will use the F1 score to compare the results. For the SVC, it is possible to see that the results are very close on the train and on the test set, which is good because we are avoiding over-fit the model."
   ]
  },
  {
   "cell_type": "code",
   "execution_count": 62,
   "metadata": {},
   "outputs": [
    {
     "name": "stdout",
     "output_type": "stream",
     "text": [
      "[[3692  924]\n",
      " [ 497  812]]\n"
     ]
    },
    {
     "data": {
      "image/png": "[encoded data removed]",
      "text/plain": [
       "<Figure size 432x432 with 2 Axes>"
      ]
     },
     "metadata": {
      "needs_background": "light"
     },
     "output_type": "display_data"
    }
   ],
   "source": [
    "# Getting the confusion matrix\n",
    "cm_SVC = confusion_matrix(y_test, y_pred_test_SVC)\n",
    "print(cm_SVC)\n",
    "\n",
    "# Plotting the confusion matrix with seaborn\n",
    "plt.figure(figsize=(6,6))\n",
    "sns.heatmap(cm_SVC, annot=True, fmt=\".0f\", linewidths=.5, square = True, cmap = 'Blues');\n",
    "plt.title('SVC Confusion Matrix');\n",
    "plt.ylabel('Actual label');\n",
    "plt.xlabel('Predicted label');"
   ]
  },
  {
   "cell_type": "markdown",
   "metadata": {},
   "source": [
    "The confusion matrix above showed that the sum of the correct predictions that the model made is equal to 4504 (TN + TP = 3692 + 812). Also, it is possible to see that the model predicted 1421 labels incorrectly. Which means that the model predicted that 497 clients will pay the credit card amount when actually they will default. And the model predicted that 924 clients will default the credit card payment when actually they will pay."
   ]
  },
  {
   "cell_type": "markdown",
   "metadata": {},
   "source": [
    "#### 6.4.  Random Forest"
   ]
  },
  {
   "cell_type": "code",
   "execution_count": 55,
   "metadata": {},
   "outputs": [
    {
     "name": "stdout",
     "output_type": "stream",
     "text": [
      "Train Precision: 99.286\n",
      "Train Recall: 90.206\n",
      "Train F1: 94.528\n",
      "\n",
      "\n",
      "Test Precision: 63.636\n",
      "Test Recall: 30.481\n",
      "Test F1: 41.219\n"
     ]
    }
   ],
   "source": [
    "from sklearn.ensemble import RandomForestClassifier\n",
    "\n",
    "RF_model = RandomForestClassifier(class_weight='balanced', random_state = 42)\n",
    "RF_model.fit(X_train,y_train)\n",
    "\n",
    "\n",
    "y_pred_train_RF = RF_model.predict(X_train)\n",
    "y_pred_test_RF = RF_model.predict(X_test)\n",
    "\n",
    "print(f\"Train Precision: {100*precision_score(y_train, y_pred_train_RF):3.3f}\")\n",
    "print(f\"Train Recall: {100*recall_score(y_train, y_pred_train_RF):3.3f}\")\n",
    "print(f\"Train F1: {100*f1_score(y_train, y_pred_train_RF):3.3f}\")\n",
    "\n",
    "print('\\n')\n",
    "\n",
    "print(f\"Test Precision: {100*precision_score(y_test, y_pred_test_RF):3.3f}\")\n",
    "print(f\"Test Recall: {100*recall_score(y_test, y_pred_test_RF):3.3f}\")\n",
    "print(f\"Test F1: {100*f1_score(y_test, y_pred_test_RF):3.3f}\")"
   ]
  },
  {
   "cell_type": "code",
   "execution_count": 56,
   "metadata": {},
   "outputs": [
    {
     "name": "stdout",
     "output_type": "stream",
     "text": [
      "              precision    recall  f1-score   support\n",
      "\n",
      "           0       0.83      0.95      0.89      4616\n",
      "           1       0.64      0.30      0.41      1309\n",
      "\n",
      "   micro avg       0.81      0.81      0.81      5925\n",
      "   macro avg       0.73      0.63      0.65      5925\n",
      "weighted avg       0.79      0.81      0.78      5925\n",
      "\n"
     ]
    }
   ],
   "source": [
    "# Getting the classification report\n",
    "print(classification_report(y_test, y_pred_test_RF))"
   ]
  },
  {
   "cell_type": "markdown",
   "metadata": {},
   "source": [
    "Considering the results above, it is tricky to compare the models because they present high precision and low recall. So, because of that, I will use the F1 score to compare the results. For the Random Forest, the previous results showed that the training F1 score is much higher than the test F1 score, so here we are not avoiding over-fit the model."
   ]
  },
  {
   "cell_type": "code",
   "execution_count": 57,
   "metadata": {},
   "outputs": [
    {
     "name": "stdout",
     "output_type": "stream",
     "text": [
      "[[4388  228]\n",
      " [ 910  399]]\n"
     ]
    },
    {
     "data": {
      "image/png": "[encoded data removed]",
      "text/plain": [
       "<Figure size 432x432 with 2 Axes>"
      ]
     },
     "metadata": {
      "needs_background": "light"
     },
     "output_type": "display_data"
    }
   ],
   "source": [
    "# Getting the confusion matrix\n",
    "cm_RF = confusion_matrix(y_test, y_pred_test_RF)\n",
    "print(cm_RF)\n",
    "\n",
    "# Plotting the confusion matrix with seaborn\n",
    "plt.figure(figsize=(6,6))\n",
    "sns.heatmap(cm_RF, annot=True, fmt=\".0f\", linewidths=.5, square = True, cmap = 'Blues');\n",
    "plt.title('Random Forest Confusion Matrix');\n",
    "plt.ylabel('Actual label');\n",
    "plt.xlabel('Predicted label');"
   ]
  },
  {
   "cell_type": "markdown",
   "metadata": {},
   "source": [
    "The confusion matrix above showed that the sum of the correct predictions that the model made is equal to 4787 (TN + TP = 4388 + 399). Also, it is possible to see that the model predicted 1138 labels incorrectly. Which means that the model predicted that 910 clients will pay the credit card amount when actually they will default. And the model predicted that 228 clients will default the credit card payment when actually they will pay."
   ]
  }
 ],
 "metadata": {
  "kernelspec": {
   "display_name": "Python 3",
   "language": "python",
   "name": "python3"
  },
  "language_info": {
   "codemirror_mode": {
    "name": "ipython",
    "version": 3
   },
   "file_extension": ".py",
   "mimetype": "text/x-python",
   "name": "python",
   "nbconvert_exporter": "python",
   "pygments_lexer": "ipython3",
   "version": "3.7.3"
  }
 },
 "nbformat": 4,
 "nbformat_minor": 2
}
