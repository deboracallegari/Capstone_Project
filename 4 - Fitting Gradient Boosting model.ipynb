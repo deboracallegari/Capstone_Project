{
 "cells": [
  {
   "cell_type": "markdown",
   "metadata": {},
   "source": [
    "## Capstone Project - Default of Credit Card Clients\n",
    "\n",
    "Prepared by Debora Callegari"
   ]
  },
  {
   "cell_type": "markdown",
   "metadata": {},
   "source": [
    "### Imports"
   ]
  },
  {
   "cell_type": "code",
   "execution_count": 1,
   "metadata": {},
   "outputs": [],
   "source": [
    "#Importing the necessary packages:\n",
    "\n",
    "import numpy as np\n",
    "import pandas as pd\n",
    "import seaborn as sns\n",
    "import matplotlib.pyplot as plt\n",
    "%matplotlib inline\n",
    "\n",
    "import matplotlib.gridspec as gridspec\n",
    "\n",
    "import statsmodels.api as sm\n",
    "\n",
    "from sklearn.linear_model import LogisticRegression\n",
    "from sklearn.tree import DecisionTreeClassifier\n",
    "from sklearn.metrics import accuracy_score, confusion_matrix, recall_score, f1_score, precision_score\n",
    "from sklearn.model_selection import train_test_split\n",
    "from sklearn import metrics\n",
    "\n",
    "from sklearn.preprocessing import StandardScaler\n",
    "from sklearn import preprocessing\n",
    "from sklearn.model_selection import cross_val_score\n",
    "from sklearn.metrics import classification_report\n",
    "from sklearn.model_selection import GridSearchCV\n",
    "from sklearn.ensemble import GradientBoostingClassifier\n",
    "\n",
    "\n",
    "import warnings\n",
    "warnings.filterwarnings('ignore')"
   ]
  },
  {
   "cell_type": "markdown",
   "metadata": {},
   "source": [
    "### Step 9: Gradient Boosting"
   ]
  },
  {
   "cell_type": "code",
   "execution_count": 87,
   "metadata": {},
   "outputs": [],
   "source": [
    "X_1 = feat_eng_data.drop('default', axis=1)\n",
    "y_1 = feat_eng_data['default']"
   ]
  },
  {
   "cell_type": "code",
   "execution_count": 88,
   "metadata": {},
   "outputs": [],
   "source": [
    "# Splitting into training and test sets\n",
    "X_train, X_test, y_train, y_test = train_test_split(X_1, y_1, test_size=0.2, stratify = y_1, random_state=42)"
   ]
  },
  {
   "cell_type": "code",
   "execution_count": 89,
   "metadata": {},
   "outputs": [
    {
     "data": {
      "text/plain": [
       "GradientBoostingClassifier(criterion='friedman_mse', init=None,\n",
       "              learning_rate=0.1, loss='deviance', max_depth=3,\n",
       "              max_features=None, max_leaf_nodes=None,\n",
       "              min_impurity_decrease=0.0, min_impurity_split=None,\n",
       "              min_samples_leaf=1, min_samples_split=2,\n",
       "              min_weight_fraction_leaf=0.0, n_estimators=100,\n",
       "              n_iter_no_change=None, presort='auto', random_state=None,\n",
       "              subsample=1.0, tol=0.0001, validation_fraction=0.1,\n",
       "              verbose=0, warm_start=False)"
      ]
     },
     "execution_count": 89,
     "metadata": {},
     "output_type": "execute_result"
    }
   ],
   "source": [
    "#fitting Boosting\n",
    "\n",
    "GB_model = GradientBoostingClassifier()\n",
    "GB_model.fit(X_train,y_train)"
   ]
  },
  {
   "cell_type": "code",
   "execution_count": 90,
   "metadata": {},
   "outputs": [
    {
     "name": "stdout",
     "output_type": "stream",
     "text": [
      "Gradient Boost score: 82.549\n"
     ]
    }
   ],
   "source": [
    "print(\"Gradient Boost score: %3.3f\" % (100 * GB_model.score(X_test,y_test)))"
   ]
  },
  {
   "cell_type": "code",
   "execution_count": 91,
   "metadata": {},
   "outputs": [
    {
     "data": {
      "text/plain": [
       "array([DecisionTreeRegressor(criterion='friedman_mse', max_depth=3,\n",
       "           max_features=None, max_leaf_nodes=None,\n",
       "           min_impurity_decrease=0.0, min_impurity_split=None,\n",
       "           min_samples_leaf=1, min_samples_split=2,\n",
       "           min_weight_fraction_leaf=0.0, presort='auto',\n",
       "           random_state=<mtrand.RandomState object at 0x10d7bf990>,\n",
       "           splitter='best')], dtype=object)"
      ]
     },
     "execution_count": 91,
     "metadata": {},
     "output_type": "execute_result"
    }
   ],
   "source": [
    "GB_model.estimators_[0]"
   ]
  },
  {
   "cell_type": "code",
   "execution_count": 92,
   "metadata": {},
   "outputs": [
    {
     "data": {
      "text/plain": [
       "array([1.75572944e-02, 7.66405097e-03, 2.57212499e-02, 4.05234026e-03,\n",
       "       3.58829537e-03, 4.45294773e-03, 5.88364675e-04, 3.67382858e-03,\n",
       "       2.00435779e-02, 1.50209500e-02, 1.70593126e-02, 8.95604687e-03,\n",
       "       5.48738748e-03, 1.07902676e-02, 4.72594425e-04, 7.17405104e-04,\n",
       "       9.41134285e-04, 4.02354547e-06, 0.00000000e+00, 4.56219168e-03,\n",
       "       1.98795413e-03, 3.14965044e-03, 4.20461584e-01, 1.40793090e-01,\n",
       "       3.52838895e-02, 1.73667717e-03, 0.00000000e+00, 0.00000000e+00,\n",
       "       2.09744276e-04, 0.00000000e+00, 0.00000000e+00, 8.34339886e-02,\n",
       "       1.06982601e-04, 3.56257333e-04, 5.84446235e-04, 1.28294190e-03,\n",
       "       0.00000000e+00, 0.00000000e+00, 0.00000000e+00, 0.00000000e+00,\n",
       "       3.25803441e-02, 0.00000000e+00, 1.21056596e-03, 0.00000000e+00,\n",
       "       0.00000000e+00, 2.46150016e-04, 0.00000000e+00, 0.00000000e+00,\n",
       "       0.00000000e+00, 1.68438292e-02, 0.00000000e+00, 1.08733310e-03,\n",
       "       0.00000000e+00, 1.01511991e-04, 0.00000000e+00, 3.62017105e-04,\n",
       "       0.00000000e+00, 0.00000000e+00, 2.30774332e-02, 1.37599234e-04,\n",
       "       1.78309125e-04, 2.28140797e-04, 1.45497163e-04, 0.00000000e+00,\n",
       "       0.00000000e+00, 0.00000000e+00, 1.98746815e-02, 0.00000000e+00,\n",
       "       0.00000000e+00, 0.00000000e+00, 0.00000000e+00, 3.92201944e-04,\n",
       "       0.00000000e+00, 0.00000000e+00, 1.98690914e-02, 2.15903767e-02,\n",
       "       7.68339515e-03, 3.62908411e-03, 4.41944156e-03, 5.60252791e-03])"
      ]
     },
     "execution_count": 92,
     "metadata": {},
     "output_type": "execute_result"
    }
   ],
   "source": [
    "GB_model.feature_importances_"
   ]
  },
  {
   "cell_type": "code",
   "execution_count": 93,
   "metadata": {},
   "outputs": [
    {
     "data": {
      "text/plain": [
       "0.8254852320675106"
      ]
     },
     "execution_count": 93,
     "metadata": {},
     "output_type": "execute_result"
    }
   ],
   "source": [
    "GB_model.score(X_test,y_test)"
   ]
  },
  {
   "cell_type": "code",
   "execution_count": 94,
   "metadata": {},
   "outputs": [
    {
     "data": {
      "text/plain": [
       "0.8274537935690776"
      ]
     },
     "execution_count": 94,
     "metadata": {},
     "output_type": "execute_result"
    }
   ],
   "source": [
    "GB_model.score(X_train,y_train)"
   ]
  },
  {
   "cell_type": "code",
   "execution_count": 95,
   "metadata": {},
   "outputs": [],
   "source": [
    "y_pred = GB_model.predict(X_test)"
   ]
  },
  {
   "cell_type": "code",
   "execution_count": 96,
   "metadata": {},
   "outputs": [
    {
     "name": "stdout",
     "output_type": "stream",
     "text": [
      "              precision    recall  f1-score   support\n",
      "\n",
      "           0       0.85      0.95      0.89      4616\n",
      "           1       0.69      0.39      0.50      1309\n",
      "\n",
      "   micro avg       0.83      0.83      0.83      5925\n",
      "   macro avg       0.77      0.67      0.69      5925\n",
      "weighted avg       0.81      0.83      0.81      5925\n",
      "\n"
     ]
    }
   ],
   "source": [
    "# Getting the classification report\n",
    "print(classification_report(y_test, y_pred))"
   ]
  },
  {
   "cell_type": "code",
   "execution_count": 97,
   "metadata": {},
   "outputs": [
    {
     "name": "stdout",
     "output_type": "stream",
     "text": [
      "[[4384  232]\n",
      " [ 802  507]]\n"
     ]
    },
    {
     "data": {
      "image/png": "[encoded data removed]",
      "text/plain": [
       "<Figure size 432x432 with 2 Axes>"
      ]
     },
     "metadata": {
      "needs_background": "light"
     },
     "output_type": "display_data"
    }
   ],
   "source": [
    "# Getting the confusion matrix\n",
    "cm_GB_1 = confusion_matrix(y_test, y_pred)\n",
    "print(cm_GB_1)\n",
    "\n",
    "# Plotting the confusion matrix with seaborn\n",
    "plt.figure(figsize=(6,6))\n",
    "sns.heatmap(cm_GB_1, annot=True, fmt=\".0f\", linewidths=.5, square = True, cmap = 'Blues');\n",
    "plt.title('GB Confusion Matrix');\n",
    "plt.ylabel('Actual label');\n",
    "plt.xlabel('Predicted label');"
   ]
  },
  {
   "cell_type": "markdown",
   "metadata": {},
   "source": [
    "Considering the previous results, it is possible to see that Gradient Boosting performed well, because it is performing with default parameters. \n",
    "\n",
    "The confusion matrix above showed that the sum of the correct predictions that the model made is equal to 4891 (TN + TP = 4384 + 507). Also, it is possible to see that the model predicted 1034 labels incorrectly. Which means that the model predicted that 802 clients will pay the credit card amount when actually they will default. And the model predicted that 232 clients will default the credit card payment when actually they will pay."
   ]
  }
 ],
 "metadata": {
  "kernelspec": {
   "display_name": "Python 3",
   "language": "python",
   "name": "python3"
  },
  "language_info": {
   "codemirror_mode": {
    "name": "ipython",
    "version": 3
   },
   "file_extension": ".py",
   "mimetype": "text/x-python",
   "name": "python",
   "nbconvert_exporter": "python",
   "pygments_lexer": "ipython3",
   "version": "3.7.3"
  }
 },
 "nbformat": 4,
 "nbformat_minor": 2
}
